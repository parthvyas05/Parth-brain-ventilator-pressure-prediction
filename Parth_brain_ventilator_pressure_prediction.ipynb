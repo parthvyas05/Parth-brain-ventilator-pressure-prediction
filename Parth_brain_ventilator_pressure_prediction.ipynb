{
  "cells": [
    {
      "cell_type": "code",
      "execution_count": null,
      "id": "a0140f85",
      "metadata": {
        "_cell_guid": "b1076dfc-b9ad-4769-8c92-a6c4dae69d19",
        "_uuid": "8f2839f25d086af736a60e9eeb907d3b93b6e0e5",
        "execution": {
          "iopub.execute_input": "2022-03-03T16:54:26.575988Z",
          "iopub.status.busy": "2022-03-03T16:54:26.575230Z",
          "iopub.status.idle": "2022-03-03T16:54:26.580807Z",
          "shell.execute_reply": "2022-03-03T16:54:26.581424Z",
          "shell.execute_reply.started": "2022-03-03T16:49:50.463956Z"
        },
        "papermill": {
          "duration": 0.074609,
          "end_time": "2022-03-03T16:54:26.581706",
          "exception": false,
          "start_time": "2022-03-03T16:54:26.507097",
          "status": "completed"
        },
        "tags": [],
        "id": "a0140f85",
        "outputId": "3fdb3419-0f53-4827-e303-a13dfaa4ab10"
      },
      "outputs": [
        {
          "name": "stdout",
          "output_type": "stream",
          "text": [
            "/kaggle/input/ventilator-pressure-prediction/sample_submission.csv\n",
            "/kaggle/input/ventilator-pressure-prediction/train.csv\n",
            "/kaggle/input/ventilator-pressure-prediction/test.csv\n"
          ]
        }
      ],
      "source": [
        "# This Python 3 environment comes with many helpful analytics libraries installed\n",
        "# It is defined by the kaggle/python Docker image: https://github.com/kaggle/docker-python\n",
        "# For example, here's several helpful packages to load\n",
        "\n",
        "import numpy as np # linear algebra\n",
        "import pandas as pd # data processing, CSV file I/O (e.g. pd.read_csv)\n",
        "\n",
        "# Input data files are available in the read-only \"../input/\" directory\n",
        "# For example, running this (by clicking run or pressing Shift+Enter) will list all files under the input directory\n",
        "\n",
        "import os\n",
        "\n",
        "\n",
        "# You can write up to 20GB to the current directory (/kaggle/working/) that gets preserved as output when you create a version using \"Save & Run All\"\n",
        "# You can also write temporary files to /kaggle/temp/, but they won't be saved outside of the current session"
      ]
    },
    {
      "cell_type": "markdown",
      "id": "fd5098f2",
      "metadata": {
        "papermill": {
          "duration": 0.060771,
          "end_time": "2022-03-03T16:54:26.734487",
          "exception": false,
          "start_time": "2022-03-03T16:54:26.673716",
          "status": "completed"
        },
        "tags": [],
        "id": "fd5098f2"
      },
      "source": [
        "**Basic Libraries**"
      ]
    },
    {
      "cell_type": "code",
      "execution_count": null,
      "id": "ec48919a",
      "metadata": {
        "execution": {
          "iopub.execute_input": "2022-03-03T16:54:26.851335Z",
          "iopub.status.busy": "2022-03-03T16:54:26.850676Z",
          "iopub.status.idle": "2022-03-03T16:54:30.094177Z",
          "shell.execute_reply": "2022-03-03T16:54:30.093667Z",
          "shell.execute_reply.started": "2022-03-03T16:49:50.496204Z"
        },
        "papermill": {
          "duration": 3.306364,
          "end_time": "2022-03-03T16:54:30.094312",
          "exception": false,
          "start_time": "2022-03-03T16:54:26.787948",
          "status": "completed"
        },
        "tags": [],
        "id": "ec48919a",
        "outputId": "9c9a4deb-ff6b-4a9c-e45d-efbeffec5107"
      },
      "outputs": [
        {
          "data": {
            "text/html": [
              "<style type='text/css'>\n",
              ".datatable table.frame { margin-bottom: 0; }\n",
              ".datatable table.frame thead { border-bottom: none; }\n",
              ".datatable table.frame tr.coltypes td {  color: #FFFFFF;  line-height: 6px;  padding: 0 0.5em;}\n",
              ".datatable .bool    { background: #DDDD99; }\n",
              ".datatable .object  { background: #565656; }\n",
              ".datatable .int     { background: #5D9E5D; }\n",
              ".datatable .float   { background: #4040CC; }\n",
              ".datatable .str     { background: #CC4040; }\n",
              ".datatable .time    { background: #40CC40; }\n",
              ".datatable .row_index {  background: var(--jp-border-color3);  border-right: 1px solid var(--jp-border-color0);  color: var(--jp-ui-font-color3);  font-size: 9px;}\n",
              ".datatable .frame tbody td { text-align: left; }\n",
              ".datatable .frame tr.coltypes .row_index {  background: var(--jp-border-color0);}\n",
              ".datatable th:nth-child(2) { padding-left: 12px; }\n",
              ".datatable .hellipsis {  color: var(--jp-cell-editor-border-color);}\n",
              ".datatable .vellipsis {  background: var(--jp-layout-color0);  color: var(--jp-cell-editor-border-color);}\n",
              ".datatable .na {  color: var(--jp-cell-editor-border-color);  font-size: 80%;}\n",
              ".datatable .sp {  opacity: 0.25;}\n",
              ".datatable .footer { font-size: 9px; }\n",
              ".datatable .frame_dimensions {  background: var(--jp-border-color3);  border-top: 1px solid var(--jp-border-color0);  color: var(--jp-ui-font-color3);  display: inline-block;  opacity: 0.6;  padding: 1px 10px 1px 5px;}\n",
              "</style>\n"
            ],
            "text/plain": [
              "<IPython.core.display.HTML object>"
            ]
          },
          "metadata": {},
          "output_type": "display_data"
        }
      ],
      "source": [
        "import numpy as np\n",
        "import pandas as pd\n",
        "import seaborn as sns\n",
        "import matplotlib.pyplot as plt\n",
        "%matplotlib inline\n",
        "import missingno as msno\n",
        "\n",
        "from sklearn.model_selection import train_test_split\n",
        "from sklearn.linear_model import LinearRegression\n",
        "from sklearn.ensemble import RandomForestRegressor\n",
        "from xgboost import XGBRegressor\n",
        "from sklearn.svm import SVR\n",
        "from sklearn.pipeline import make_pipeline\n",
        "from sklearn.preprocessing import StandardScaler\n",
        "from lightgbm import LGBMRegressor\n",
        "\n",
        "from sklearn.metrics import r2_score, accuracy_score, roc_auc_score\n",
        "\n",
        "\n",
        "import warnings\n",
        "warnings.filterwarnings('ignore')"
      ]
    },
    {
      "cell_type": "code",
      "execution_count": null,
      "id": "2592d5ac",
      "metadata": {
        "execution": {
          "iopub.execute_input": "2022-03-03T16:54:30.209963Z",
          "iopub.status.busy": "2022-03-03T16:54:30.209164Z",
          "iopub.status.idle": "2022-03-03T16:54:30.211210Z",
          "shell.execute_reply": "2022-03-03T16:54:30.211626Z",
          "shell.execute_reply.started": "2022-03-03T16:49:52.959164Z"
        },
        "papermill": {
          "duration": 0.063049,
          "end_time": "2022-03-03T16:54:30.211767",
          "exception": false,
          "start_time": "2022-03-03T16:54:30.148718",
          "status": "completed"
        },
        "tags": [],
        "id": "2592d5ac"
      },
      "outputs": [],
      "source": [
        "def mape(actual, pred):\n",
        "    actual, pred = np.array(actual), np.array(pred)\n",
        "    return np.mean(np.abs((actual - pred) / actual)) * 100"
      ]
    },
    {
      "cell_type": "markdown",
      "id": "e0756213",
      "metadata": {
        "papermill": {
          "duration": 0.057588,
          "end_time": "2022-03-03T16:54:30.335159",
          "exception": false,
          "start_time": "2022-03-03T16:54:30.277571",
          "status": "completed"
        },
        "tags": [],
        "id": "e0756213"
      },
      "source": [
        "**Importing Dataset**"
      ]
    },
    {
      "cell_type": "code",
      "execution_count": null,
      "id": "65b55a14",
      "metadata": {
        "execution": {
          "iopub.execute_input": "2022-03-03T16:54:30.455880Z",
          "iopub.status.busy": "2022-03-03T16:54:30.454943Z",
          "iopub.status.idle": "2022-03-03T16:54:43.937415Z",
          "shell.execute_reply": "2022-03-03T16:54:43.936949Z",
          "shell.execute_reply.started": "2022-03-03T16:49:52.966088Z"
        },
        "papermill": {
          "duration": 13.544613,
          "end_time": "2022-03-03T16:54:43.937543",
          "exception": false,
          "start_time": "2022-03-03T16:54:30.392930",
          "status": "completed"
        },
        "tags": [],
        "id": "65b55a14"
      },
      "outputs": [],
      "source": [
        "data_train = pd.read_csv('../input/ventilator-pressure-prediction/train.csv')\n",
        "data_test = pd.read_csv('../input/ventilator-pressure-prediction/test.csv')"
      ]
    },
    {
      "cell_type": "markdown",
      "id": "e75b7781",
      "metadata": {
        "papermill": {
          "duration": 0.05362,
          "end_time": "2022-03-03T16:54:44.045333",
          "exception": false,
          "start_time": "2022-03-03T16:54:43.991713",
          "status": "completed"
        },
        "tags": [],
        "id": "e75b7781"
      },
      "source": [
        "# Data Processing"
      ]
    },
    {
      "cell_type": "code",
      "execution_count": null,
      "id": "01ccf4c4",
      "metadata": {
        "execution": {
          "iopub.execute_input": "2022-03-03T16:54:44.159415Z",
          "iopub.status.busy": "2022-03-03T16:54:44.158596Z",
          "iopub.status.idle": "2022-03-03T16:54:44.170982Z",
          "shell.execute_reply": "2022-03-03T16:54:44.171374Z",
          "shell.execute_reply.started": "2022-03-03T16:50:07.501947Z"
        },
        "papermill": {
          "duration": 0.072614,
          "end_time": "2022-03-03T16:54:44.171501",
          "exception": false,
          "start_time": "2022-03-03T16:54:44.098887",
          "status": "completed"
        },
        "tags": [],
        "id": "01ccf4c4",
        "outputId": "5c0d371c-2054-41ad-ecd9-70bb482ff6be"
      },
      "outputs": [
        {
          "data": {
            "text/html": [
              "<div>\n",
              "<style scoped>\n",
              "    .dataframe tbody tr th:only-of-type {\n",
              "        vertical-align: middle;\n",
              "    }\n",
              "\n",
              "    .dataframe tbody tr th {\n",
              "        vertical-align: top;\n",
              "    }\n",
              "\n",
              "    .dataframe thead th {\n",
              "        text-align: right;\n",
              "    }\n",
              "</style>\n",
              "<table border=\"1\" class=\"dataframe\">\n",
              "  <thead>\n",
              "    <tr style=\"text-align: right;\">\n",
              "      <th></th>\n",
              "      <th>id</th>\n",
              "      <th>breath_id</th>\n",
              "      <th>R</th>\n",
              "      <th>C</th>\n",
              "      <th>time_step</th>\n",
              "      <th>u_in</th>\n",
              "      <th>u_out</th>\n",
              "      <th>pressure</th>\n",
              "    </tr>\n",
              "  </thead>\n",
              "  <tbody>\n",
              "    <tr>\n",
              "      <th>0</th>\n",
              "      <td>1</td>\n",
              "      <td>1</td>\n",
              "      <td>20</td>\n",
              "      <td>50</td>\n",
              "      <td>0.000000</td>\n",
              "      <td>0.083334</td>\n",
              "      <td>0</td>\n",
              "      <td>5.837492</td>\n",
              "    </tr>\n",
              "    <tr>\n",
              "      <th>1</th>\n",
              "      <td>2</td>\n",
              "      <td>1</td>\n",
              "      <td>20</td>\n",
              "      <td>50</td>\n",
              "      <td>0.033652</td>\n",
              "      <td>18.383041</td>\n",
              "      <td>0</td>\n",
              "      <td>5.907794</td>\n",
              "    </tr>\n",
              "    <tr>\n",
              "      <th>2</th>\n",
              "      <td>3</td>\n",
              "      <td>1</td>\n",
              "      <td>20</td>\n",
              "      <td>50</td>\n",
              "      <td>0.067514</td>\n",
              "      <td>22.509278</td>\n",
              "      <td>0</td>\n",
              "      <td>7.876254</td>\n",
              "    </tr>\n",
              "    <tr>\n",
              "      <th>3</th>\n",
              "      <td>4</td>\n",
              "      <td>1</td>\n",
              "      <td>20</td>\n",
              "      <td>50</td>\n",
              "      <td>0.101542</td>\n",
              "      <td>22.808822</td>\n",
              "      <td>0</td>\n",
              "      <td>11.742872</td>\n",
              "    </tr>\n",
              "    <tr>\n",
              "      <th>4</th>\n",
              "      <td>5</td>\n",
              "      <td>1</td>\n",
              "      <td>20</td>\n",
              "      <td>50</td>\n",
              "      <td>0.135756</td>\n",
              "      <td>25.355850</td>\n",
              "      <td>0</td>\n",
              "      <td>12.234987</td>\n",
              "    </tr>\n",
              "  </tbody>\n",
              "</table>\n",
              "</div>"
            ],
            "text/plain": [
              "   id  breath_id   R   C  time_step       u_in  u_out   pressure\n",
              "0   1          1  20  50   0.000000   0.083334      0   5.837492\n",
              "1   2          1  20  50   0.033652  18.383041      0   5.907794\n",
              "2   3          1  20  50   0.067514  22.509278      0   7.876254\n",
              "3   4          1  20  50   0.101542  22.808822      0  11.742872\n",
              "4   5          1  20  50   0.135756  25.355850      0  12.234987"
            ]
          },
          "execution_count": 5,
          "metadata": {},
          "output_type": "execute_result"
        }
      ],
      "source": [
        "data_train.head()"
      ]
    },
    {
      "cell_type": "code",
      "execution_count": null,
      "id": "4f2a7be8",
      "metadata": {
        "execution": {
          "iopub.execute_input": "2022-03-03T16:54:44.288719Z",
          "iopub.status.busy": "2022-03-03T16:54:44.287922Z",
          "iopub.status.idle": "2022-03-03T16:54:44.290835Z",
          "shell.execute_reply": "2022-03-03T16:54:44.291381Z",
          "shell.execute_reply.started": "2022-03-03T16:50:07.522517Z"
        },
        "papermill": {
          "duration": 0.065671,
          "end_time": "2022-03-03T16:54:44.291521",
          "exception": false,
          "start_time": "2022-03-03T16:54:44.225850",
          "status": "completed"
        },
        "tags": [],
        "id": "4f2a7be8",
        "outputId": "69e1d845-3e61-46f9-ffd3-a893b8498726"
      },
      "outputs": [
        {
          "data": {
            "text/html": [
              "<div>\n",
              "<style scoped>\n",
              "    .dataframe tbody tr th:only-of-type {\n",
              "        vertical-align: middle;\n",
              "    }\n",
              "\n",
              "    .dataframe tbody tr th {\n",
              "        vertical-align: top;\n",
              "    }\n",
              "\n",
              "    .dataframe thead th {\n",
              "        text-align: right;\n",
              "    }\n",
              "</style>\n",
              "<table border=\"1\" class=\"dataframe\">\n",
              "  <thead>\n",
              "    <tr style=\"text-align: right;\">\n",
              "      <th></th>\n",
              "      <th>id</th>\n",
              "      <th>breath_id</th>\n",
              "      <th>R</th>\n",
              "      <th>C</th>\n",
              "      <th>time_step</th>\n",
              "      <th>u_in</th>\n",
              "      <th>u_out</th>\n",
              "    </tr>\n",
              "  </thead>\n",
              "  <tbody>\n",
              "    <tr>\n",
              "      <th>0</th>\n",
              "      <td>1</td>\n",
              "      <td>0</td>\n",
              "      <td>5</td>\n",
              "      <td>20</td>\n",
              "      <td>0.000000</td>\n",
              "      <td>0.000000</td>\n",
              "      <td>0</td>\n",
              "    </tr>\n",
              "    <tr>\n",
              "      <th>1</th>\n",
              "      <td>2</td>\n",
              "      <td>0</td>\n",
              "      <td>5</td>\n",
              "      <td>20</td>\n",
              "      <td>0.031904</td>\n",
              "      <td>7.515046</td>\n",
              "      <td>0</td>\n",
              "    </tr>\n",
              "    <tr>\n",
              "      <th>2</th>\n",
              "      <td>3</td>\n",
              "      <td>0</td>\n",
              "      <td>5</td>\n",
              "      <td>20</td>\n",
              "      <td>0.063827</td>\n",
              "      <td>14.651675</td>\n",
              "      <td>0</td>\n",
              "    </tr>\n",
              "    <tr>\n",
              "      <th>3</th>\n",
              "      <td>4</td>\n",
              "      <td>0</td>\n",
              "      <td>5</td>\n",
              "      <td>20</td>\n",
              "      <td>0.095751</td>\n",
              "      <td>21.230610</td>\n",
              "      <td>0</td>\n",
              "    </tr>\n",
              "    <tr>\n",
              "      <th>4</th>\n",
              "      <td>5</td>\n",
              "      <td>0</td>\n",
              "      <td>5</td>\n",
              "      <td>20</td>\n",
              "      <td>0.127644</td>\n",
              "      <td>26.320956</td>\n",
              "      <td>0</td>\n",
              "    </tr>\n",
              "  </tbody>\n",
              "</table>\n",
              "</div>"
            ],
            "text/plain": [
              "   id  breath_id  R   C  time_step       u_in  u_out\n",
              "0   1          0  5  20   0.000000   0.000000      0\n",
              "1   2          0  5  20   0.031904   7.515046      0\n",
              "2   3          0  5  20   0.063827  14.651675      0\n",
              "3   4          0  5  20   0.095751  21.230610      0\n",
              "4   5          0  5  20   0.127644  26.320956      0"
            ]
          },
          "execution_count": 6,
          "metadata": {},
          "output_type": "execute_result"
        }
      ],
      "source": [
        "data_test.head()"
      ]
    },
    {
      "cell_type": "markdown",
      "id": "e4eb9e25",
      "metadata": {
        "papermill": {
          "duration": 0.058482,
          "end_time": "2022-03-03T16:54:44.409407",
          "exception": false,
          "start_time": "2022-03-03T16:54:44.350925",
          "status": "completed"
        },
        "tags": [],
        "id": "e4eb9e25"
      },
      "source": [
        "**Feature Description**"
      ]
    },
    {
      "cell_type": "markdown",
      "id": "08034a90",
      "metadata": {
        "papermill": {
          "duration": 0.058848,
          "end_time": "2022-03-03T16:54:44.527942",
          "exception": false,
          "start_time": "2022-03-03T16:54:44.469094",
          "status": "completed"
        },
        "tags": [],
        "id": "08034a90"
      },
      "source": [
        "|Features|Description|\n",
        "|:-------:|:----------|\n",
        "|id|Globally-unique time step identifier across an entire file|\n",
        "|breath_id|Globally-unique time step for breaths|\n",
        "|R|Lung attribute indicating how restricted the airway is (in cmH2O/L/S). Physically, this is the change in pressure per change in flow (air volume per time). Intuitively, one can imagine blowing up a balloon through a straw. We can change R by changing the diameter of the straw, with higher R being harder to blow.|\n",
        "|C|Lung attribute indicating how compliant the lung is (in mL/cmH2O). Physically, this is the change in volume per change in pressure. Intuitively, one can imagine the same balloon example. We can change C by changing the thickness of the balloon’s latex, with higher C having thinner latex and easier to blow.|\n",
        "|time_step|The actual time stamp.|\n",
        "|u_in|The control input for the inspiratory solenoid valve. Ranges from 0 to 100.|\n",
        "|u_out|The control input for the exploratory solenoid valve. Either 0 or 1.|\n",
        "|pressure|The airway pressure measured in the respiratory circuit, measured in cmH2O.|"
      ]
    },
    {
      "cell_type": "code",
      "execution_count": null,
      "id": "3cf75fdf",
      "metadata": {
        "execution": {
          "iopub.execute_input": "2022-03-03T16:54:44.649033Z",
          "iopub.status.busy": "2022-03-03T16:54:44.648411Z",
          "iopub.status.idle": "2022-03-03T16:54:44.651095Z",
          "shell.execute_reply": "2022-03-03T16:54:44.651480Z",
          "shell.execute_reply.started": "2022-03-03T16:50:07.542075Z"
        },
        "papermill": {
          "duration": 0.066699,
          "end_time": "2022-03-03T16:54:44.651645",
          "exception": false,
          "start_time": "2022-03-03T16:54:44.584946",
          "status": "completed"
        },
        "tags": [],
        "id": "3cf75fdf",
        "outputId": "81a0832a-9379-42db-9a84-f8b17afbf95c"
      },
      "outputs": [
        {
          "data": {
            "text/html": [
              "<div>\n",
              "<style scoped>\n",
              "    .dataframe tbody tr th:only-of-type {\n",
              "        vertical-align: middle;\n",
              "    }\n",
              "\n",
              "    .dataframe tbody tr th {\n",
              "        vertical-align: top;\n",
              "    }\n",
              "\n",
              "    .dataframe thead th {\n",
              "        text-align: right;\n",
              "    }\n",
              "</style>\n",
              "<table border=\"1\" class=\"dataframe\">\n",
              "  <thead>\n",
              "    <tr style=\"text-align: right;\">\n",
              "      <th></th>\n",
              "      <th>Rows</th>\n",
              "      <th>Columns</th>\n",
              "    </tr>\n",
              "  </thead>\n",
              "  <tbody>\n",
              "    <tr>\n",
              "      <th>Train Dataset</th>\n",
              "      <td>6036000</td>\n",
              "      <td>8</td>\n",
              "    </tr>\n",
              "    <tr>\n",
              "      <th>Test Dataset</th>\n",
              "      <td>4024000</td>\n",
              "      <td>7</td>\n",
              "    </tr>\n",
              "  </tbody>\n",
              "</table>\n",
              "</div>"
            ],
            "text/plain": [
              "                  Rows  Columns\n",
              "Train Dataset  6036000        8\n",
              "Test Dataset   4024000        7"
            ]
          },
          "execution_count": 7,
          "metadata": {},
          "output_type": "execute_result"
        }
      ],
      "source": [
        "sha = pd.DataFrame({'Rows':[data_train.shape[0],data_test.shape[0]], 'Columns':[data_train.shape[1], data_test.shape[1]]},\n",
        "                  index = ['Train Dataset', 'Test Dataset'])\n",
        "sha"
      ]
    },
    {
      "cell_type": "code",
      "execution_count": null,
      "id": "c15e916a",
      "metadata": {
        "execution": {
          "iopub.execute_input": "2022-03-03T16:54:44.765406Z",
          "iopub.status.busy": "2022-03-03T16:54:44.764645Z",
          "iopub.status.idle": "2022-03-03T16:54:44.789494Z",
          "shell.execute_reply": "2022-03-03T16:54:44.789075Z",
          "shell.execute_reply.started": "2022-03-03T16:50:07.558165Z"
        },
        "papermill": {
          "duration": 0.082583,
          "end_time": "2022-03-03T16:54:44.789620",
          "exception": false,
          "start_time": "2022-03-03T16:54:44.707037",
          "status": "completed"
        },
        "tags": [],
        "id": "c15e916a",
        "outputId": "ea22ea70-6f1a-41fc-96fb-a255de5cd4b1"
      },
      "outputs": [
        {
          "name": "stdout",
          "output_type": "stream",
          "text": [
            "<class 'pandas.core.frame.DataFrame'>\n",
            "RangeIndex: 6036000 entries, 0 to 6035999\n",
            "Data columns (total 8 columns):\n",
            " #   Column     Dtype  \n",
            "---  ------     -----  \n",
            " 0   id         int64  \n",
            " 1   breath_id  int64  \n",
            " 2   R          int64  \n",
            " 3   C          int64  \n",
            " 4   time_step  float64\n",
            " 5   u_in       float64\n",
            " 6   u_out      int64  \n",
            " 7   pressure   float64\n",
            "dtypes: float64(3), int64(5)\n",
            "memory usage: 368.4 MB\n",
            "====================================\n",
            "<class 'pandas.core.frame.DataFrame'>\n",
            "RangeIndex: 4024000 entries, 0 to 4023999\n",
            "Data columns (total 7 columns):\n",
            " #   Column     Dtype  \n",
            "---  ------     -----  \n",
            " 0   id         int64  \n",
            " 1   breath_id  int64  \n",
            " 2   R          int64  \n",
            " 3   C          int64  \n",
            " 4   time_step  float64\n",
            " 5   u_in       float64\n",
            " 6   u_out      int64  \n",
            "dtypes: float64(2), int64(5)\n",
            "memory usage: 214.9 MB\n"
          ]
        }
      ],
      "source": [
        "data_train.info()\n",
        "print('====================================')\n",
        "data_test.info()"
      ]
    },
    {
      "cell_type": "markdown",
      "id": "96841650",
      "metadata": {
        "papermill": {
          "duration": 0.060629,
          "end_time": "2022-03-03T16:54:44.911629",
          "exception": false,
          "start_time": "2022-03-03T16:54:44.851000",
          "status": "completed"
        },
        "tags": [],
        "id": "96841650"
      },
      "source": [
        "**Missing Values**"
      ]
    },
    {
      "cell_type": "code",
      "execution_count": null,
      "id": "59fe7734",
      "metadata": {
        "execution": {
          "iopub.execute_input": "2022-03-03T16:54:45.037054Z",
          "iopub.status.busy": "2022-03-03T16:54:45.036201Z",
          "iopub.status.idle": "2022-03-03T16:54:45.839373Z",
          "shell.execute_reply": "2022-03-03T16:54:45.838595Z",
          "shell.execute_reply.started": "2022-03-03T16:50:07.594190Z"
        },
        "papermill": {
          "duration": 0.866893,
          "end_time": "2022-03-03T16:54:45.839565",
          "exception": false,
          "start_time": "2022-03-03T16:54:44.972672",
          "status": "completed"
        },
        "tags": [],
        "id": "59fe7734",
        "outputId": "6524c43b-7b94-4db9-b395-6e65b598ad98"
      },
      "outputs": [
        {
          "data": {
            "image/png": "[encoded data removed]",
            "text/plain": [
              "<Figure size 1440x216 with 3 Axes>"
            ]
          },
          "metadata": {
            "needs_background": "light"
          },
          "output_type": "display_data"
        }
      ],
      "source": [
        "msno.bar(data_train, figsize = (20,3), fontsize = 12)\n",
        "plt.grid();"
      ]
    },
    {
      "cell_type": "code",
      "execution_count": null,
      "id": "6e136dee",
      "metadata": {
        "execution": {
          "iopub.execute_input": "2022-03-03T16:54:45.974921Z",
          "iopub.status.busy": "2022-03-03T16:54:45.974121Z",
          "iopub.status.idle": "2022-03-03T16:54:46.665794Z",
          "shell.execute_reply": "2022-03-03T16:54:46.666446Z",
          "shell.execute_reply.started": "2022-03-03T16:50:08.634958Z"
        },
        "papermill": {
          "duration": 0.753314,
          "end_time": "2022-03-03T16:54:46.666700",
          "exception": false,
          "start_time": "2022-03-03T16:54:45.913386",
          "status": "completed"
        },
        "tags": [],
        "id": "6e136dee",
        "outputId": "ac0c4103-b886-4f38-8210-5536bb2d6c8f"
      },
      "outputs": [
        {
          "data": {
            "image/png": "[encoded data removed]",
            "text/plain": [
              "<Figure size 1440x216 with 3 Axes>"
            ]
          },
          "metadata": {
            "needs_background": "light"
          },
          "output_type": "display_data"
        }
      ],
      "source": [
        "msno.bar(data_test, figsize=(20,3),fontsize=12)\n",
        "plt.grid();"
      ]
    },
    {
      "cell_type": "markdown",
      "id": "91be61c2",
      "metadata": {
        "papermill": {
          "duration": 0.057653,
          "end_time": "2022-03-03T16:54:46.807678",
          "exception": false,
          "start_time": "2022-03-03T16:54:46.750025",
          "status": "completed"
        },
        "tags": [],
        "id": "91be61c2"
      },
      "source": [
        "No Missing Values are observed in both Train and Test Datasets."
      ]
    },
    {
      "cell_type": "markdown",
      "id": "c752f7ee",
      "metadata": {
        "papermill": {
          "duration": 0.057318,
          "end_time": "2022-03-03T16:54:46.923560",
          "exception": false,
          "start_time": "2022-03-03T16:54:46.866242",
          "status": "completed"
        },
        "tags": [],
        "id": "c752f7ee"
      },
      "source": [
        "**Duplicate Records**"
      ]
    },
    {
      "cell_type": "code",
      "execution_count": null,
      "id": "6c9db2a0",
      "metadata": {
        "execution": {
          "iopub.execute_input": "2022-03-03T16:54:47.044555Z",
          "iopub.status.busy": "2022-03-03T16:54:47.043676Z",
          "iopub.status.idle": "2022-03-03T16:54:52.325210Z",
          "shell.execute_reply": "2022-03-03T16:54:52.325630Z",
          "shell.execute_reply.started": "2022-03-03T16:50:09.413311Z"
        },
        "papermill": {
          "duration": 5.345126,
          "end_time": "2022-03-03T16:54:52.325777",
          "exception": false,
          "start_time": "2022-03-03T16:54:46.980651",
          "status": "completed"
        },
        "tags": [],
        "id": "6c9db2a0",
        "outputId": "22c6dfe8-06fd-458b-c7d6-ca7e1234aa58"
      },
      "outputs": [
        {
          "name": "stdout",
          "output_type": "stream",
          "text": [
            "Total no of duplicate values in Training Dataset = 0\n"
          ]
        },
        {
          "data": {
            "text/html": [
              "<div>\n",
              "<style scoped>\n",
              "    .dataframe tbody tr th:only-of-type {\n",
              "        vertical-align: middle;\n",
              "    }\n",
              "\n",
              "    .dataframe tbody tr th {\n",
              "        vertical-align: top;\n",
              "    }\n",
              "\n",
              "    .dataframe thead th {\n",
              "        text-align: right;\n",
              "    }\n",
              "</style>\n",
              "<table border=\"1\" class=\"dataframe\">\n",
              "  <thead>\n",
              "    <tr style=\"text-align: right;\">\n",
              "      <th></th>\n",
              "      <th>id</th>\n",
              "      <th>breath_id</th>\n",
              "      <th>R</th>\n",
              "      <th>C</th>\n",
              "      <th>time_step</th>\n",
              "      <th>u_in</th>\n",
              "      <th>u_out</th>\n",
              "      <th>pressure</th>\n",
              "    </tr>\n",
              "  </thead>\n",
              "  <tbody>\n",
              "  </tbody>\n",
              "</table>\n",
              "</div>"
            ],
            "text/plain": [
              "Empty DataFrame\n",
              "Columns: [id, breath_id, R, C, time_step, u_in, u_out, pressure]\n",
              "Index: []"
            ]
          },
          "execution_count": 11,
          "metadata": {},
          "output_type": "execute_result"
        }
      ],
      "source": [
        "dupstr = data_train.duplicated()\n",
        "print('Total no of duplicate values in Training Dataset = %d' % (dupstr.sum()))\n",
        "\n",
        "data_train[dupstr]"
      ]
    },
    {
      "cell_type": "code",
      "execution_count": null,
      "id": "7e05e832",
      "metadata": {
        "execution": {
          "iopub.execute_input": "2022-03-03T16:54:52.448721Z",
          "iopub.status.busy": "2022-03-03T16:54:52.447846Z",
          "iopub.status.idle": "2022-03-03T16:54:55.146279Z",
          "shell.execute_reply": "2022-03-03T16:54:55.146721Z",
          "shell.execute_reply.started": "2022-03-03T16:50:15.504113Z"
        },
        "papermill": {
          "duration": 2.762091,
          "end_time": "2022-03-03T16:54:55.146873",
          "exception": false,
          "start_time": "2022-03-03T16:54:52.384782",
          "status": "completed"
        },
        "tags": [],
        "id": "7e05e832",
        "outputId": "0be9d262-3097-4a97-e955-1e84c858017e"
      },
      "outputs": [
        {
          "name": "stdout",
          "output_type": "stream",
          "text": [
            "Total no of duplicate values in Test Dataset = 0\n"
          ]
        },
        {
          "data": {
            "text/html": [
              "<div>\n",
              "<style scoped>\n",
              "    .dataframe tbody tr th:only-of-type {\n",
              "        vertical-align: middle;\n",
              "    }\n",
              "\n",
              "    .dataframe tbody tr th {\n",
              "        vertical-align: top;\n",
              "    }\n",
              "\n",
              "    .dataframe thead th {\n",
              "        text-align: right;\n",
              "    }\n",
              "</style>\n",
              "<table border=\"1\" class=\"dataframe\">\n",
              "  <thead>\n",
              "    <tr style=\"text-align: right;\">\n",
              "      <th></th>\n",
              "      <th>id</th>\n",
              "      <th>breath_id</th>\n",
              "      <th>R</th>\n",
              "      <th>C</th>\n",
              "      <th>time_step</th>\n",
              "      <th>u_in</th>\n",
              "      <th>u_out</th>\n",
              "    </tr>\n",
              "  </thead>\n",
              "  <tbody>\n",
              "  </tbody>\n",
              "</table>\n",
              "</div>"
            ],
            "text/plain": [
              "Empty DataFrame\n",
              "Columns: [id, breath_id, R, C, time_step, u_in, u_out]\n",
              "Index: []"
            ]
          },
          "execution_count": 12,
          "metadata": {},
          "output_type": "execute_result"
        }
      ],
      "source": [
        "dupstst = data_test.duplicated()\n",
        "print('Total no of duplicate values in Test Dataset = %d' % (dupstst.sum()))\n",
        "\n",
        "data_test[dupstst]"
      ]
    },
    {
      "cell_type": "markdown",
      "id": "8e2cac87",
      "metadata": {
        "papermill": {
          "duration": 0.059701,
          "end_time": "2022-03-03T16:54:55.268648",
          "exception": false,
          "start_time": "2022-03-03T16:54:55.208947",
          "status": "completed"
        },
        "tags": [],
        "id": "8e2cac87"
      },
      "source": [
        "# Exploratory Data Analysis"
      ]
    },
    {
      "cell_type": "code",
      "execution_count": null,
      "id": "a1fda2a1",
      "metadata": {
        "execution": {
          "iopub.execute_input": "2022-03-03T16:54:55.397100Z",
          "iopub.status.busy": "2022-03-03T16:54:55.395823Z",
          "iopub.status.idle": "2022-03-03T16:54:55.641354Z",
          "shell.execute_reply": "2022-03-03T16:54:55.640809Z",
          "shell.execute_reply.started": "2022-03-03T16:50:18.810658Z"
        },
        "papermill": {
          "duration": 0.313152,
          "end_time": "2022-03-03T16:54:55.641483",
          "exception": false,
          "start_time": "2022-03-03T16:54:55.328331",
          "status": "completed"
        },
        "tags": [],
        "id": "a1fda2a1"
      },
      "outputs": [],
      "source": [
        "DF_train = data_train.copy()\n",
        "DF_train.drop(['id', 'breath_id'], axis = 1, inplace = True)"
      ]
    },
    {
      "cell_type": "code",
      "execution_count": null,
      "id": "c3dc58dc",
      "metadata": {
        "execution": {
          "iopub.execute_input": "2022-03-03T16:54:55.762521Z",
          "iopub.status.busy": "2022-03-03T16:54:55.761783Z",
          "iopub.status.idle": "2022-03-03T16:54:57.037631Z",
          "shell.execute_reply": "2022-03-03T16:54:57.038084Z",
          "shell.execute_reply.started": "2022-03-03T16:50:19.072086Z"
        },
        "papermill": {
          "duration": 1.337796,
          "end_time": "2022-03-03T16:54:57.038229",
          "exception": false,
          "start_time": "2022-03-03T16:54:55.700433",
          "status": "completed"
        },
        "tags": [],
        "id": "c3dc58dc",
        "outputId": "beea0e38-f036-4e7b-9535-1c1b6a716445"
      },
      "outputs": [
        {
          "data": {
            "image/png": "[encoded data removed]",
            "text/plain": [
              "<Figure size 1440x720 with 2 Axes>"
            ]
          },
          "metadata": {
            "needs_background": "light"
          },
          "output_type": "display_data"
        }
      ],
      "source": [
        "plt.figure(figsize = (20,10))\n",
        "sns.heatmap(DF_train.corr(), annot = True, fmt = '3.2f' , annot_kws={'size' : 12}, cmap=\"Set1\")\n",
        "plt.xticks(fontsize = 14)\n",
        "plt.yticks(fontsize = 14)\n",
        "plt.show()"
      ]
    },
    {
      "cell_type": "markdown",
      "id": "58c193ef",
      "metadata": {
        "papermill": {
          "duration": 0.065886,
          "end_time": "2022-03-03T16:54:57.166287",
          "exception": false,
          "start_time": "2022-03-03T16:54:57.100401",
          "status": "completed"
        },
        "tags": [],
        "id": "58c193ef"
      },
      "source": [
        "* Only the control input for the exploratory solenoid valve i.e. u_out, showing high positive correlation with time and moderately negative correlation to Pressure.\n",
        "* u_in has good positive correlation with pressure."
      ]
    },
    {
      "cell_type": "code",
      "execution_count": null,
      "id": "86bbc8b6",
      "metadata": {
        "execution": {
          "iopub.execute_input": "2022-03-03T16:54:57.321935Z",
          "iopub.status.busy": "2022-03-03T16:54:57.300492Z",
          "iopub.status.idle": "2022-03-03T16:55:03.893318Z",
          "shell.execute_reply": "2022-03-03T16:55:03.893713Z",
          "shell.execute_reply.started": "2022-03-03T16:50:20.349129Z"
        },
        "papermill": {
          "duration": 6.661561,
          "end_time": "2022-03-03T16:55:03.893865",
          "exception": false,
          "start_time": "2022-03-03T16:54:57.232304",
          "status": "completed"
        },
        "tags": [],
        "id": "86bbc8b6",
        "outputId": "6a8e0d27-efea-421d-a916-81f6d3d962d5"
      },
      "outputs": [
        {
          "data": {
            "image/png": "[encoded data removed]",
            "text/plain": [
              "<Figure size 1440x432 with 6 Axes>"
            ]
          },
          "metadata": {
            "needs_background": "light"
          },
          "output_type": "display_data"
        }
      ],
      "source": [
        "a = 2\n",
        "b = 3\n",
        "c = 1\n",
        "\n",
        "plt.figure(figsize = (20,6))\n",
        "for col in DF_train.columns:\n",
        "    plt.subplot(a,b,c)\n",
        "    sns.boxplot(DF_train[col], palette='Set2')\n",
        "    plt.xlabel('{}'.format(col), fontsize = 15)\n",
        "    plt.xticks(fontsize = 12)\n",
        "\n",
        "    c = c+1\n",
        "\n",
        "plt.tight_layout()"
      ]
    },
    {
      "cell_type": "code",
      "execution_count": null,
      "id": "662f2ea2",
      "metadata": {
        "execution": {
          "iopub.execute_input": "2022-03-03T16:55:04.957333Z",
          "iopub.status.busy": "2022-03-03T16:55:04.956441Z",
          "iopub.status.idle": "2022-03-03T16:55:05.192919Z",
          "shell.execute_reply": "2022-03-03T16:55:05.192408Z",
          "shell.execute_reply.started": "2022-03-03T16:50:27.665490Z"
        },
        "papermill": {
          "duration": 1.237849,
          "end_time": "2022-03-03T16:55:05.193049",
          "exception": false,
          "start_time": "2022-03-03T16:55:03.955200",
          "status": "completed"
        },
        "tags": [],
        "id": "662f2ea2",
        "outputId": "847bf32f-be57-403c-a30c-ef37ace11f24"
      },
      "outputs": [
        {
          "data": {
            "text/plain": [
              "0.000000    75450\n",
              "0.031934       46\n",
              "0.031935       44\n",
              "0.031920       43\n",
              "0.031938       43\n",
              "            ...  \n",
              "1.793088        1\n",
              "1.827272        1\n",
              "1.896594        1\n",
              "1.930891        1\n",
              "2.638017        1\n",
              "Name: time_step, Length: 3767571, dtype: int64"
            ]
          },
          "execution_count": 16,
          "metadata": {},
          "output_type": "execute_result"
        }
      ],
      "source": [
        "data_train.time_step.value_counts()"
      ]
    },
    {
      "cell_type": "code",
      "execution_count": null,
      "id": "e5646bad",
      "metadata": {
        "execution": {
          "iopub.execute_input": "2022-03-03T16:55:05.323911Z",
          "iopub.status.busy": "2022-03-03T16:55:05.323124Z",
          "iopub.status.idle": "2022-03-03T16:55:05.485848Z",
          "shell.execute_reply": "2022-03-03T16:55:05.486459Z",
          "shell.execute_reply.started": "2022-03-03T16:50:29.047107Z"
        },
        "papermill": {
          "duration": 0.230492,
          "end_time": "2022-03-03T16:55:05.486672",
          "exception": false,
          "start_time": "2022-03-03T16:55:05.256180",
          "status": "completed"
        },
        "tags": [],
        "id": "e5646bad",
        "outputId": "cce552f7-cc69-4e8f-e6a3-6b714779ba42"
      },
      "outputs": [
        {
          "name": "stdout",
          "output_type": "stream",
          "text": [
            "No of Breaths: 75450\n",
            "Breath Length: 80\n"
          ]
        }
      ],
      "source": [
        "unique_breaths = len(data_train.breath_id.unique())\n",
        "print(\"No of Breaths:\", unique_breaths)\n",
        "\n",
        "breath_length = data_train.groupby('breath_id').C.count().unique()\n",
        "if len(breath_length) == 1:\n",
        "    breath_length = breath_length[0]\n",
        "print(\"Breath Length:\", breath_length)"
      ]
    },
    {
      "cell_type": "code",
      "execution_count": null,
      "id": "f43e50c5",
      "metadata": {
        "execution": {
          "iopub.execute_input": "2022-03-03T16:55:05.652678Z",
          "iopub.status.busy": "2022-03-03T16:55:05.651772Z",
          "iopub.status.idle": "2022-03-03T16:55:05.822021Z",
          "shell.execute_reply": "2022-03-03T16:55:05.821390Z",
          "shell.execute_reply.started": "2022-03-03T16:50:29.242947Z"
        },
        "papermill": {
          "duration": 0.271588,
          "end_time": "2022-03-03T16:55:05.822152",
          "exception": false,
          "start_time": "2022-03-03T16:55:05.550564",
          "status": "completed"
        },
        "tags": [],
        "id": "f43e50c5",
        "outputId": "dfbfb6b9-1e1f-47df-b5b0-0d1561331612"
      },
      "outputs": [
        {
          "data": {
            "text/html": [
              "<div>\n",
              "<style scoped>\n",
              "    .dataframe tbody tr th:only-of-type {\n",
              "        vertical-align: middle;\n",
              "    }\n",
              "\n",
              "    .dataframe tbody tr th {\n",
              "        vertical-align: top;\n",
              "    }\n",
              "\n",
              "    .dataframe thead th {\n",
              "        text-align: right;\n",
              "    }\n",
              "</style>\n",
              "<table border=\"1\" class=\"dataframe\">\n",
              "  <thead>\n",
              "    <tr style=\"text-align: right;\">\n",
              "      <th></th>\n",
              "      <th>R</th>\n",
              "      <th>C</th>\n",
              "    </tr>\n",
              "    <tr>\n",
              "      <th>breath_id</th>\n",
              "      <th></th>\n",
              "      <th></th>\n",
              "    </tr>\n",
              "  </thead>\n",
              "  <tbody>\n",
              "    <tr>\n",
              "      <th>1</th>\n",
              "      <td>0.0</td>\n",
              "      <td>0.0</td>\n",
              "    </tr>\n",
              "    <tr>\n",
              "      <th>2</th>\n",
              "      <td>0.0</td>\n",
              "      <td>0.0</td>\n",
              "    </tr>\n",
              "    <tr>\n",
              "      <th>3</th>\n",
              "      <td>0.0</td>\n",
              "      <td>0.0</td>\n",
              "    </tr>\n",
              "    <tr>\n",
              "      <th>4</th>\n",
              "      <td>0.0</td>\n",
              "      <td>0.0</td>\n",
              "    </tr>\n",
              "    <tr>\n",
              "      <th>5</th>\n",
              "      <td>0.0</td>\n",
              "      <td>0.0</td>\n",
              "    </tr>\n",
              "    <tr>\n",
              "      <th>...</th>\n",
              "      <td>...</td>\n",
              "      <td>...</td>\n",
              "    </tr>\n",
              "    <tr>\n",
              "      <th>125740</th>\n",
              "      <td>0.0</td>\n",
              "      <td>0.0</td>\n",
              "    </tr>\n",
              "    <tr>\n",
              "      <th>125742</th>\n",
              "      <td>0.0</td>\n",
              "      <td>0.0</td>\n",
              "    </tr>\n",
              "    <tr>\n",
              "      <th>125743</th>\n",
              "      <td>0.0</td>\n",
              "      <td>0.0</td>\n",
              "    </tr>\n",
              "    <tr>\n",
              "      <th>125745</th>\n",
              "      <td>0.0</td>\n",
              "      <td>0.0</td>\n",
              "    </tr>\n",
              "    <tr>\n",
              "      <th>125749</th>\n",
              "      <td>0.0</td>\n",
              "      <td>0.0</td>\n",
              "    </tr>\n",
              "  </tbody>\n",
              "</table>\n",
              "<p>75450 rows × 2 columns</p>\n",
              "</div>"
            ],
            "text/plain": [
              "             R    C\n",
              "breath_id          \n",
              "1          0.0  0.0\n",
              "2          0.0  0.0\n",
              "3          0.0  0.0\n",
              "4          0.0  0.0\n",
              "5          0.0  0.0\n",
              "...        ...  ...\n",
              "125740     0.0  0.0\n",
              "125742     0.0  0.0\n",
              "125743     0.0  0.0\n",
              "125745     0.0  0.0\n",
              "125749     0.0  0.0\n",
              "\n",
              "[75450 rows x 2 columns]"
            ]
          },
          "execution_count": 18,
          "metadata": {},
          "output_type": "execute_result"
        }
      ],
      "source": [
        "r_c_variance = data_train.groupby('breath_id')[['R','C']].var()\n",
        "r_c_variance"
      ]
    },
    {
      "cell_type": "markdown",
      "id": "9b2d336c",
      "metadata": {
        "papermill": {
          "duration": 0.062955,
          "end_time": "2022-03-03T16:55:05.952119",
          "exception": false,
          "start_time": "2022-03-03T16:55:05.889164",
          "status": "completed"
        },
        "tags": [],
        "id": "9b2d336c"
      },
      "source": [
        "* For each breath R and C values are constant"
      ]
    },
    {
      "cell_type": "code",
      "execution_count": null,
      "id": "21e9a23f",
      "metadata": {
        "execution": {
          "iopub.execute_input": "2022-03-03T16:55:06.173468Z",
          "iopub.status.busy": "2022-03-03T16:55:06.172740Z",
          "iopub.status.idle": "2022-03-03T16:55:06.448859Z",
          "shell.execute_reply": "2022-03-03T16:55:06.449856Z",
          "shell.execute_reply.started": "2022-03-03T16:50:29.483265Z"
        },
        "papermill": {
          "duration": 0.406219,
          "end_time": "2022-03-03T16:55:06.450062",
          "exception": false,
          "start_time": "2022-03-03T16:55:06.043843",
          "status": "completed"
        },
        "tags": [],
        "id": "21e9a23f",
        "outputId": "8ac757d5-62d3-4642-8687-b57c314215fa"
      },
      "outputs": [
        {
          "name": "stdout",
          "output_type": "stream",
          "text": [
            "Unique change in pressure per change in air flow:\n",
            "50.0    30126\n",
            "5.0     24860\n",
            "20.0    20464\n",
            "Name: R, dtype: int64\n"
          ]
        }
      ],
      "source": [
        "R_value = data_train[['breath_id', 'R']].groupby('breath_id').mean()['R']\n",
        "print('Unique change in pressure per change in air flow:')\n",
        "print(R_value.value_counts())\n",
        "R = np.sort(R_value.unique()).astype(int)"
      ]
    },
    {
      "cell_type": "code",
      "execution_count": null,
      "id": "ff101d88",
      "metadata": {
        "execution": {
          "iopub.execute_input": "2022-03-03T16:55:06.673414Z",
          "iopub.status.busy": "2022-03-03T16:55:06.672644Z",
          "iopub.status.idle": "2022-03-03T16:55:06.938714Z",
          "shell.execute_reply": "2022-03-03T16:55:06.939712Z",
          "shell.execute_reply.started": "2022-03-03T16:50:29.699278Z"
        },
        "papermill": {
          "duration": 0.382491,
          "end_time": "2022-03-03T16:55:06.939916",
          "exception": false,
          "start_time": "2022-03-03T16:55:06.557425",
          "status": "completed"
        },
        "tags": [],
        "id": "ff101d88",
        "outputId": "75ad6697-73ff-40a0-ee11-593635d08a10"
      },
      "outputs": [
        {
          "name": "stdout",
          "output_type": "stream",
          "text": [
            "Change in volume per change in pressure:\n",
            "10.0    28059\n",
            "50.0    24646\n",
            "20.0    22745\n",
            "Name: C, dtype: int64\n"
          ]
        }
      ],
      "source": [
        "C_value = data_train[['breath_id', 'C']].groupby('breath_id').mean()['C']\n",
        "print('Change in volume per change in pressure:')\n",
        "print(C_value.value_counts())\n",
        "C = np.sort(C_value.unique()).astype(int)"
      ]
    },
    {
      "cell_type": "markdown",
      "id": "b4364964",
      "metadata": {
        "papermill": {
          "duration": 0.084719,
          "end_time": "2022-03-03T16:55:07.130091",
          "exception": false,
          "start_time": "2022-03-03T16:55:07.045372",
          "status": "completed"
        },
        "tags": [],
        "id": "b4364964"
      },
      "source": [
        "**R_C combinations**"
      ]
    },
    {
      "cell_type": "code",
      "execution_count": null,
      "id": "dd10bbc9",
      "metadata": {
        "execution": {
          "iopub.execute_input": "2022-03-03T16:55:07.267818Z",
          "iopub.status.busy": "2022-03-03T16:55:07.266250Z",
          "iopub.status.idle": "2022-03-03T16:55:07.830266Z",
          "shell.execute_reply": "2022-03-03T16:55:07.830661Z",
          "shell.execute_reply.started": "2022-03-03T16:50:29.914075Z"
        },
        "papermill": {
          "duration": 0.636716,
          "end_time": "2022-03-03T16:55:07.830814",
          "exception": false,
          "start_time": "2022-03-03T16:55:07.194098",
          "status": "completed"
        },
        "tags": [],
        "id": "dd10bbc9",
        "outputId": "3a149dfd-2c09-467a-ba78-f04f196aaaf7"
      },
      "outputs": [
        {
          "data": {
            "image/png": "[encoded data removed]",
            "text/plain": [
              "<Figure size 1440x360 with 1 Axes>"
            ]
          },
          "metadata": {
            "needs_background": "light"
          },
          "output_type": "display_data"
        }
      ],
      "source": [
        "rc_values = np.array([\n",
        "    [r, c, len(data_train[(data_train['R'] == r) & (data_train['C'] == c)])//breath_length]\n",
        "    for r in R\n",
        "    for c in C\n",
        "])\n",
        "x = range(len(rc_values))\n",
        "plt.figure(figsize = (20,5))\n",
        "plt.bar(x, rc_values[:,2])\n",
        "plt.xticks(x, [str(r) + '_' + str(c) for r, c in rc_values[:,:2] ])\n",
        "plt.xlabel('R_C')\n",
        "plt.ylabel('Number counts')\n",
        "plt.show()"
      ]
    },
    {
      "cell_type": "code",
      "execution_count": null,
      "id": "6cc065c9",
      "metadata": {
        "execution": {
          "iopub.execute_input": "2022-03-03T16:55:07.969830Z",
          "iopub.status.busy": "2022-03-03T16:55:07.968988Z",
          "iopub.status.idle": "2022-03-03T16:55:08.346973Z",
          "shell.execute_reply": "2022-03-03T16:55:08.347384Z",
          "shell.execute_reply.started": "2022-03-03T16:50:30.563715Z"
        },
        "papermill": {
          "duration": 0.450267,
          "end_time": "2022-03-03T16:55:08.347530",
          "exception": false,
          "start_time": "2022-03-03T16:55:07.897263",
          "status": "completed"
        },
        "tags": [],
        "id": "6cc065c9",
        "outputId": "c8a3801f-ab77-4261-f6cb-bcb4d1e52099"
      },
      "outputs": [
        {
          "data": {
            "image/png": "[encoded data removed]",
            "text/plain": [
              "<Figure size 1440x864 with 2 Axes>"
            ]
          },
          "metadata": {
            "needs_background": "light"
          },
          "output_type": "display_data"
        }
      ],
      "source": [
        "plt.figure(figsize = (20,12))\n",
        "plt.subplot(211)\n",
        "plt.plot(data_train.pressure[:2000], linewidth = 2, color = 'r', label=\"pressure\")\n",
        "plt.plot(data_train.u_in[:2000], linewidth = 2, color = 'g', label=\"u_in\")\n",
        "plt.legend()\n",
        "plt.subplot(212)\n",
        "plt.plot(data_train.u_out[:2000], linewidth = 3, label=\"u_out\")\n",
        "plt.legend()\n",
        "\n",
        "plt.show()"
      ]
    },
    {
      "cell_type": "markdown",
      "id": "9428844d",
      "metadata": {
        "papermill": {
          "duration": 0.067153,
          "end_time": "2022-03-03T16:55:08.482617",
          "exception": false,
          "start_time": "2022-03-03T16:55:08.415464",
          "status": "completed"
        },
        "tags": [],
        "id": "9428844d"
      },
      "source": [
        "* Pressure rises when u_out=0, then drops when u_out=1\n",
        "* u_in have a irregular pattern and somehow correlate to pressure."
      ]
    },
    {
      "cell_type": "code",
      "execution_count": null,
      "id": "fcbc443c",
      "metadata": {
        "execution": {
          "iopub.execute_input": "2022-03-03T16:55:08.640525Z",
          "iopub.status.busy": "2022-03-03T16:55:08.637169Z",
          "iopub.status.idle": "2022-03-03T16:55:08.879239Z",
          "shell.execute_reply": "2022-03-03T16:55:08.879747Z",
          "shell.execute_reply.started": "2022-03-03T16:50:30.992886Z"
        },
        "papermill": {
          "duration": 0.328599,
          "end_time": "2022-03-03T16:55:08.879903",
          "exception": false,
          "start_time": "2022-03-03T16:55:08.551304",
          "status": "completed"
        },
        "tags": [],
        "id": "fcbc443c",
        "outputId": "21a0ade0-451e-484a-b67a-7a11c340c488"
      },
      "outputs": [
        {
          "data": {
            "image/png": "[encoded data removed]",
            "text/plain": [
              "<Figure size 1440x432 with 1 Axes>"
            ]
          },
          "metadata": {
            "needs_background": "light"
          },
          "output_type": "display_data"
        }
      ],
      "source": [
        "plt.figure(figsize = (20,6))\n",
        "plt.plot(data_train.pressure[:240], linewidth = 2, color = 'r', label=\"pressure\")\n",
        "plt.plot(data_train.u_in[:240], linewidth = 2, color = 'g', label=\"u_in\")\n",
        "plt.xticks(np.arange(0, 241, 10))\n",
        "plt.xlim([-1, 241])\n",
        "plt.legend()\n",
        "plt.show()"
      ]
    },
    {
      "cell_type": "markdown",
      "id": "71bcdef4",
      "metadata": {
        "papermill": {
          "duration": 0.07019,
          "end_time": "2022-03-03T16:55:09.021329",
          "exception": false,
          "start_time": "2022-03-03T16:55:08.951139",
          "status": "completed"
        },
        "tags": [],
        "id": "71bcdef4"
      },
      "source": [
        "* Each breath cycle is 80 unit long.\n",
        "* In every cycle, u_in raise shape at 0 and the start decreasing. At 30 it falls sharp to 0 are remains at same from 30 to 45 unit and then raise exponentially and become constant till the end of the each breath cycle.\n",
        "* Pressure raise when u_in triggered. It falls sharp after the fall of u_in to 0.\n",
        "* The pressure does not fall to 0 rather it hold the memory till the next trigger of u_in."
      ]
    },
    {
      "cell_type": "code",
      "execution_count": null,
      "id": "38e504c5",
      "metadata": {
        "execution": {
          "iopub.execute_input": "2022-03-03T16:55:09.177992Z",
          "iopub.status.busy": "2022-03-03T16:55:09.172536Z",
          "iopub.status.idle": "2022-03-03T16:55:09.402120Z",
          "shell.execute_reply": "2022-03-03T16:55:09.402530Z",
          "shell.execute_reply.started": "2022-03-03T16:50:31.287085Z"
        },
        "papermill": {
          "duration": 0.309286,
          "end_time": "2022-03-03T16:55:09.402689",
          "exception": false,
          "start_time": "2022-03-03T16:55:09.093403",
          "status": "completed"
        },
        "tags": [],
        "id": "38e504c5",
        "outputId": "a2f750f5-195b-4654-bfb0-e496fd161a6c"
      },
      "outputs": [
        {
          "data": {
            "image/png": "[encoded data removed]",
            "text/plain": [
              "<Figure size 1440x432 with 1 Axes>"
            ]
          },
          "metadata": {
            "needs_background": "light"
          },
          "output_type": "display_data"
        }
      ],
      "source": [
        "plt.figure(figsize = (20,6))\n",
        "plt.plot(data_train.time_step[:2000], linewidth = 2, color = 'r', label=\"time step\")\n",
        "plt.plot(data_train.pressure[:2000], linewidth = 2, color = 'g', label=\"pressure\")\n",
        "plt.plot(data_train.u_out[:2000], linewidth = 2, color = 'k', label=\"u_out\")\n",
        "plt.legend()\n",
        "plt.legend()\n",
        "\n",
        "plt.show()"
      ]
    },
    {
      "cell_type": "markdown",
      "id": "4cad14f7",
      "metadata": {
        "papermill": {
          "duration": 0.072641,
          "end_time": "2022-03-03T16:55:09.547247",
          "exception": false,
          "start_time": "2022-03-03T16:55:09.474606",
          "status": "completed"
        },
        "tags": [],
        "id": "4cad14f7"
      },
      "source": [
        "**Select Input and Target Feature**"
      ]
    },
    {
      "cell_type": "markdown",
      "id": "77fff5e8",
      "metadata": {
        "papermill": {
          "duration": 0.074331,
          "end_time": "2022-03-03T16:55:09.694142",
          "exception": false,
          "start_time": "2022-03-03T16:55:09.619811",
          "status": "completed"
        },
        "tags": [],
        "id": "77fff5e8"
      },
      "source": [
        "|Features|Importance Level for the Target Prediction|\n",
        "|:-------:|:----------|\n",
        "|id|This feature is irrelevant in pressure prediction|\n",
        "|breath_id|Helps to identify the events, but not relevant for pressure prediction|\n",
        "|R|For each breath cycle the R remains constant, no variation has been traced, so we should not consider it as necessary feature.|\n",
        "|C|The similar parrten observed as in R, hence not considered as the required features for the |\n",
        "|time_step|This feature also not significant for the prediction of target|\n",
        "|u_in|The only **major feature** that correlate to the pressure.|\n",
        "|u_out|Behaves like a **switch** in the generation of pressure|"
      ]
    },
    {
      "cell_type": "code",
      "execution_count": null,
      "id": "8d4ab8b8",
      "metadata": {
        "execution": {
          "iopub.execute_input": "2022-03-03T16:55:09.844187Z",
          "iopub.status.busy": "2022-03-03T16:55:09.843036Z",
          "iopub.status.idle": "2022-03-03T16:55:10.031088Z",
          "shell.execute_reply": "2022-03-03T16:55:10.030515Z",
          "shell.execute_reply.started": "2022-03-03T16:50:31.558070Z"
        },
        "papermill": {
          "duration": 0.265372,
          "end_time": "2022-03-03T16:55:10.031215",
          "exception": false,
          "start_time": "2022-03-03T16:55:09.765843",
          "status": "completed"
        },
        "tags": [],
        "id": "8d4ab8b8"
      },
      "outputs": [],
      "source": [
        "dataTrn = data_train.copy()\n",
        "dataTrn.drop(columns=['id', 'breath_id', 'R', 'C', 'time_step'], axis = 1, inplace = True)"
      ]
    },
    {
      "cell_type": "code",
      "execution_count": null,
      "id": "f07266f0",
      "metadata": {
        "execution": {
          "iopub.execute_input": "2022-03-03T16:55:10.224858Z",
          "iopub.status.busy": "2022-03-03T16:55:10.224014Z",
          "iopub.status.idle": "2022-03-03T16:55:10.227879Z",
          "shell.execute_reply": "2022-03-03T16:55:10.228350Z",
          "shell.execute_reply.started": "2022-03-03T16:50:31.785196Z"
        },
        "papermill": {
          "duration": 0.124165,
          "end_time": "2022-03-03T16:55:10.228502",
          "exception": false,
          "start_time": "2022-03-03T16:55:10.104337",
          "status": "completed"
        },
        "tags": [],
        "id": "f07266f0"
      },
      "outputs": [],
      "source": [
        "X = dataTrn.drop(columns='pressure')\n",
        "X = X[:80000]\n",
        "y = dataTrn['pressure']\n",
        "y = y[:80000]"
      ]
    },
    {
      "cell_type": "code",
      "execution_count": null,
      "id": "71f96657",
      "metadata": {
        "execution": {
          "iopub.execute_input": "2022-03-03T16:55:10.379091Z",
          "iopub.status.busy": "2022-03-03T16:55:10.378371Z",
          "iopub.status.idle": "2022-03-03T16:55:10.390567Z",
          "shell.execute_reply": "2022-03-03T16:55:10.390138Z",
          "shell.execute_reply.started": "2022-03-03T16:50:31.843983Z"
        },
        "papermill": {
          "duration": 0.089483,
          "end_time": "2022-03-03T16:55:10.390704",
          "exception": false,
          "start_time": "2022-03-03T16:55:10.301221",
          "status": "completed"
        },
        "tags": [],
        "id": "71f96657",
        "outputId": "3a959b61-f72d-4ea3-af5d-d2a5ff9c9fac"
      },
      "outputs": [
        {
          "name": "stdout",
          "output_type": "stream",
          "text": [
            "Dimension of X_train: (56000, 2) \n",
            "Dimension of X_validation: (24000, 2) \n",
            "Dimension of y_train: (56000,) \n",
            "Dimension of y_validation: (24000,)\n"
          ]
        }
      ],
      "source": [
        "X_train, X_validation, y_train, y_validation = train_test_split(X, y, test_size=0.30, random_state=1)\n",
        "print('Dimension of X_train:', X_train.shape,'\\nDimension of X_validation:', X_validation.shape,'\\nDimension of y_train:', y_train.shape,'\\nDimension of y_validation:', y_validation.shape)"
      ]
    },
    {
      "cell_type": "markdown",
      "id": "bb7db708",
      "metadata": {
        "papermill": {
          "duration": 0.071685,
          "end_time": "2022-03-03T16:55:10.534619",
          "exception": false,
          "start_time": "2022-03-03T16:55:10.462934",
          "status": "completed"
        },
        "tags": [],
        "id": "bb7db708"
      },
      "source": [
        "# Building Model"
      ]
    },
    {
      "cell_type": "markdown",
      "id": "6b12fe94",
      "metadata": {
        "papermill": {
          "duration": 0.072134,
          "end_time": "2022-03-03T16:55:10.679162",
          "exception": false,
          "start_time": "2022-03-03T16:55:10.607028",
          "status": "completed"
        },
        "tags": [],
        "id": "6b12fe94"
      },
      "source": [
        "### Linear Regression"
      ]
    },
    {
      "cell_type": "code",
      "execution_count": null,
      "id": "d3a02e55",
      "metadata": {
        "execution": {
          "iopub.execute_input": "2022-03-03T16:55:10.830521Z",
          "iopub.status.busy": "2022-03-03T16:55:10.829752Z",
          "iopub.status.idle": "2022-03-03T16:55:10.851166Z",
          "shell.execute_reply": "2022-03-03T16:55:10.851665Z",
          "shell.execute_reply.started": "2022-03-03T16:50:31.863122Z"
        },
        "papermill": {
          "duration": 0.100655,
          "end_time": "2022-03-03T16:55:10.851803",
          "exception": false,
          "start_time": "2022-03-03T16:55:10.751148",
          "status": "completed"
        },
        "tags": [],
        "id": "d3a02e55",
        "outputId": "7d29346e-a558-4357-dfb7-951f82feda9f"
      },
      "outputs": [
        {
          "data": {
            "text/plain": [
              "LinearRegression()"
            ]
          },
          "execution_count": 28,
          "metadata": {},
          "output_type": "execute_result"
        }
      ],
      "source": [
        "LR_model = LinearRegression()\n",
        "LR_model.fit(X_train, y_train)"
      ]
    },
    {
      "cell_type": "code",
      "execution_count": null,
      "id": "cc8b9bed",
      "metadata": {
        "execution": {
          "iopub.execute_input": "2022-03-03T16:55:11.003698Z",
          "iopub.status.busy": "2022-03-03T16:55:11.003097Z",
          "iopub.status.idle": "2022-03-03T16:55:11.009795Z",
          "shell.execute_reply": "2022-03-03T16:55:11.010466Z",
          "shell.execute_reply.started": "2022-03-03T16:50:31.894757Z"
        },
        "papermill": {
          "duration": 0.084774,
          "end_time": "2022-03-03T16:55:11.010682",
          "exception": false,
          "start_time": "2022-03-03T16:55:10.925908",
          "status": "completed"
        },
        "tags": [],
        "id": "cc8b9bed"
      },
      "outputs": [],
      "source": [
        "LR_train_predict = LR_model.predict(X_train)\n",
        "LR_validation_predict = LR_model.predict(X_validation)"
      ]
    },
    {
      "cell_type": "markdown",
      "id": "7a711284",
      "metadata": {
        "papermill": {
          "duration": 0.072593,
          "end_time": "2022-03-03T16:55:11.218230",
          "exception": false,
          "start_time": "2022-03-03T16:55:11.145637",
          "status": "completed"
        },
        "tags": [],
        "id": "7a711284"
      },
      "source": [
        "<span style='color:Brown'>**Model Evaluation metrics**</span>"
      ]
    },
    {
      "cell_type": "code",
      "execution_count": null,
      "id": "c9c068f1",
      "metadata": {
        "execution": {
          "iopub.execute_input": "2022-03-03T16:55:11.368863Z",
          "iopub.status.busy": "2022-03-03T16:55:11.368025Z",
          "iopub.status.idle": "2022-03-03T16:55:11.372943Z",
          "shell.execute_reply": "2022-03-03T16:55:11.372498Z",
          "shell.execute_reply.started": "2022-03-03T16:50:31.915206Z"
        },
        "papermill": {
          "duration": 0.082506,
          "end_time": "2022-03-03T16:55:11.373058",
          "exception": false,
          "start_time": "2022-03-03T16:55:11.290552",
          "status": "completed"
        },
        "tags": [],
        "id": "c9c068f1"
      },
      "outputs": [],
      "source": [
        "LR_R2_train = r2_score(y_train,LR_train_predict)\n",
        "LR_R2_validation = r2_score(y_validation,LR_validation_predict)\n",
        "\n",
        "LR_MAPE_train = mape(y_train,LR_train_predict)\n",
        "LR_MAPE_validation = mape(y_validation,LR_validation_predict)\n"
      ]
    },
    {
      "cell_type": "code",
      "execution_count": null,
      "id": "a74b94c9",
      "metadata": {
        "execution": {
          "iopub.execute_input": "2022-03-03T16:55:11.526785Z",
          "iopub.status.busy": "2022-03-03T16:55:11.526014Z",
          "iopub.status.idle": "2022-03-03T16:55:11.528900Z",
          "shell.execute_reply": "2022-03-03T16:55:11.529324Z",
          "shell.execute_reply.started": "2022-03-03T16:50:31.927318Z"
        },
        "papermill": {
          "duration": 0.083876,
          "end_time": "2022-03-03T16:55:11.529445",
          "exception": false,
          "start_time": "2022-03-03T16:55:11.445569",
          "status": "completed"
        },
        "tags": [],
        "id": "a74b94c9",
        "outputId": "13a98fd3-a007-4eca-dfbc-4e528b8dff4a"
      },
      "outputs": [
        {
          "data": {
            "text/html": [
              "<div>\n",
              "<style scoped>\n",
              "    .dataframe tbody tr th:only-of-type {\n",
              "        vertical-align: middle;\n",
              "    }\n",
              "\n",
              "    .dataframe tbody tr th {\n",
              "        vertical-align: top;\n",
              "    }\n",
              "\n",
              "    .dataframe thead th {\n",
              "        text-align: right;\n",
              "    }\n",
              "</style>\n",
              "<table border=\"1\" class=\"dataframe\">\n",
              "  <thead>\n",
              "    <tr style=\"text-align: right;\">\n",
              "      <th></th>\n",
              "      <th>R Squared Score</th>\n",
              "      <th>MAPE Score</th>\n",
              "    </tr>\n",
              "  </thead>\n",
              "  <tbody>\n",
              "    <tr>\n",
              "      <th>Linear Regression</th>\n",
              "      <td>0.380519</td>\n",
              "      <td>37.565245</td>\n",
              "    </tr>\n",
              "  </tbody>\n",
              "</table>\n",
              "</div>"
            ],
            "text/plain": [
              "                   R Squared Score  MAPE Score\n",
              "Linear Regression         0.380519   37.565245"
            ]
          },
          "execution_count": 31,
          "metadata": {},
          "output_type": "execute_result"
        }
      ],
      "source": [
        "resultsLR = pd.DataFrame({'R Squared Score': LR_R2_validation,\n",
        "                          'MAPE Score':LR_MAPE_validation }\n",
        "                           ,index=['Linear Regression'])\n",
        "\n",
        "resultsLR"
      ]
    },
    {
      "cell_type": "markdown",
      "id": "7dd9abd4",
      "metadata": {
        "papermill": {
          "duration": 0.072436,
          "end_time": "2022-03-03T16:55:11.675085",
          "exception": false,
          "start_time": "2022-03-03T16:55:11.602649",
          "status": "completed"
        },
        "tags": [],
        "id": "7dd9abd4"
      },
      "source": [
        "### Light Gradient Boosted Machine Regressor"
      ]
    },
    {
      "cell_type": "code",
      "execution_count": null,
      "id": "96f7d07d",
      "metadata": {
        "execution": {
          "iopub.execute_input": "2022-03-03T16:55:11.828002Z",
          "iopub.status.busy": "2022-03-03T16:55:11.827131Z",
          "iopub.status.idle": "2022-03-03T16:55:13.290516Z",
          "shell.execute_reply": "2022-03-03T16:55:13.291047Z",
          "shell.execute_reply.started": "2022-03-03T16:50:31.946118Z"
        },
        "papermill": {
          "duration": 1.543337,
          "end_time": "2022-03-03T16:55:13.291222",
          "exception": false,
          "start_time": "2022-03-03T16:55:11.747885",
          "status": "completed"
        },
        "tags": [],
        "id": "96f7d07d",
        "outputId": "bbf1813a-019e-4058-de4c-2758e6392ecf"
      },
      "outputs": [
        {
          "data": {
            "text/plain": [
              "Pipeline(steps=[('standardscaler', StandardScaler()),\n",
              "                ('lgbmregressor', LGBMRegressor(n_estimators=501))])"
            ]
          },
          "execution_count": 32,
          "metadata": {},
          "output_type": "execute_result"
        }
      ],
      "source": [
        "LGBMR_model = make_pipeline(StandardScaler(), LGBMRegressor(n_estimators=501))\n",
        "LGBMR_model.fit(X_train, y_train)"
      ]
    },
    {
      "cell_type": "code",
      "execution_count": null,
      "id": "de11500e",
      "metadata": {
        "execution": {
          "iopub.execute_input": "2022-03-03T16:55:13.445675Z",
          "iopub.status.busy": "2022-03-03T16:55:13.444889Z",
          "iopub.status.idle": "2022-03-03T16:55:14.909568Z",
          "shell.execute_reply": "2022-03-03T16:55:14.910092Z",
          "shell.execute_reply.started": "2022-03-03T16:50:32.918104Z"
        },
        "papermill": {
          "duration": 1.544123,
          "end_time": "2022-03-03T16:55:14.910261",
          "exception": false,
          "start_time": "2022-03-03T16:55:13.366138",
          "status": "completed"
        },
        "tags": [],
        "id": "de11500e"
      },
      "outputs": [],
      "source": [
        "LGBMR_train_predict = LGBMR_model.predict(X_train)\n",
        "LGBMR_validation_predict = LGBMR_model.predict(X_validation)"
      ]
    },
    {
      "cell_type": "markdown",
      "id": "44d70cf2",
      "metadata": {
        "papermill": {
          "duration": 0.073824,
          "end_time": "2022-03-03T16:55:15.062652",
          "exception": false,
          "start_time": "2022-03-03T16:55:14.988828",
          "status": "completed"
        },
        "tags": [],
        "id": "44d70cf2"
      },
      "source": [
        "<span style='color:Brown'>**Model Evaluation metrics**</span>"
      ]
    },
    {
      "cell_type": "code",
      "execution_count": null,
      "id": "75047bb6",
      "metadata": {
        "execution": {
          "iopub.execute_input": "2022-03-03T16:55:15.217160Z",
          "iopub.status.busy": "2022-03-03T16:55:15.216158Z",
          "iopub.status.idle": "2022-03-03T16:55:15.220131Z",
          "shell.execute_reply": "2022-03-03T16:55:15.220493Z",
          "shell.execute_reply.started": "2022-03-03T16:50:33.810684Z"
        },
        "papermill": {
          "duration": 0.083487,
          "end_time": "2022-03-03T16:55:15.220660",
          "exception": false,
          "start_time": "2022-03-03T16:55:15.137173",
          "status": "completed"
        },
        "tags": [],
        "id": "75047bb6"
      },
      "outputs": [],
      "source": [
        "LGBMR_R2_train = r2_score(y_train,LGBMR_train_predict)\n",
        "LGBMR_R2_validation = r2_score(y_validation,LGBMR_validation_predict)\n",
        "\n",
        "LGBMR_MAPE_train = mape(y_train,LGBMR_train_predict)\n",
        "LGBMR_MAPE_validation = mape(y_validation,LGBMR_validation_predict)"
      ]
    },
    {
      "cell_type": "code",
      "execution_count": null,
      "id": "97294a56",
      "metadata": {
        "execution": {
          "iopub.execute_input": "2022-03-03T16:55:15.377424Z",
          "iopub.status.busy": "2022-03-03T16:55:15.376820Z",
          "iopub.status.idle": "2022-03-03T16:55:15.379528Z",
          "shell.execute_reply": "2022-03-03T16:55:15.379938Z",
          "shell.execute_reply.started": "2022-03-03T16:50:33.820727Z"
        },
        "papermill": {
          "duration": 0.085749,
          "end_time": "2022-03-03T16:55:15.380073",
          "exception": false,
          "start_time": "2022-03-03T16:55:15.294324",
          "status": "completed"
        },
        "tags": [],
        "id": "97294a56",
        "outputId": "cd5c1d0b-d8dc-4dbc-df1a-cff90b3c81bb"
      },
      "outputs": [
        {
          "data": {
            "text/html": [
              "<div>\n",
              "<style scoped>\n",
              "    .dataframe tbody tr th:only-of-type {\n",
              "        vertical-align: middle;\n",
              "    }\n",
              "\n",
              "    .dataframe tbody tr th {\n",
              "        vertical-align: top;\n",
              "    }\n",
              "\n",
              "    .dataframe thead th {\n",
              "        text-align: right;\n",
              "    }\n",
              "</style>\n",
              "<table border=\"1\" class=\"dataframe\">\n",
              "  <thead>\n",
              "    <tr style=\"text-align: right;\">\n",
              "      <th></th>\n",
              "      <th>R Squared Score</th>\n",
              "      <th>MAPE Score</th>\n",
              "    </tr>\n",
              "  </thead>\n",
              "  <tbody>\n",
              "    <tr>\n",
              "      <th>Light Gradient Boosted Machine</th>\n",
              "      <td>0.443025</td>\n",
              "      <td>34.115820</td>\n",
              "    </tr>\n",
              "    <tr>\n",
              "      <th>Linear Regression</th>\n",
              "      <td>0.380519</td>\n",
              "      <td>37.565245</td>\n",
              "    </tr>\n",
              "  </tbody>\n",
              "</table>\n",
              "</div>"
            ],
            "text/plain": [
              "                                R Squared Score  MAPE Score\n",
              "Light Gradient Boosted Machine         0.443025   34.115820\n",
              "Linear Regression                      0.380519   37.565245"
            ]
          },
          "execution_count": 35,
          "metadata": {},
          "output_type": "execute_result"
        }
      ],
      "source": [
        "resultsLGBMR = pd.DataFrame({'R Squared Score': LGBMR_R2_validation,\n",
        "                          'MAPE Score':LGBMR_MAPE_validation }\n",
        "                           ,index=['Light Gradient Boosted Machine'])\n",
        "\n",
        "results2 = pd.concat([resultsLGBMR,resultsLR])\n",
        "results2"
      ]
    },
    {
      "cell_type": "markdown",
      "id": "ab38a89b",
      "metadata": {
        "papermill": {
          "duration": 0.073727,
          "end_time": "2022-03-03T16:55:15.526902",
          "exception": false,
          "start_time": "2022-03-03T16:55:15.453175",
          "status": "completed"
        },
        "tags": [],
        "id": "ab38a89b"
      },
      "source": [
        "### Random Forest Regressor"
      ]
    },
    {
      "cell_type": "code",
      "execution_count": null,
      "id": "9d46c8ca",
      "metadata": {
        "execution": {
          "iopub.execute_input": "2022-03-03T16:55:15.679912Z",
          "iopub.status.busy": "2022-03-03T16:55:15.679153Z",
          "iopub.status.idle": "2022-03-03T16:55:50.486229Z",
          "shell.execute_reply": "2022-03-03T16:55:50.486659Z",
          "shell.execute_reply.started": "2022-03-03T16:50:33.836371Z"
        },
        "papermill": {
          "duration": 34.886033,
          "end_time": "2022-03-03T16:55:50.486809",
          "exception": false,
          "start_time": "2022-03-03T16:55:15.600776",
          "status": "completed"
        },
        "tags": [],
        "id": "9d46c8ca",
        "outputId": "2aa321f1-f5a4-4b76-bd83-7aa41189b823"
      },
      "outputs": [
        {
          "data": {
            "text/plain": [
              "RandomForestRegressor(n_estimators=501, random_state=0)"
            ]
          },
          "execution_count": 36,
          "metadata": {},
          "output_type": "execute_result"
        }
      ],
      "source": [
        "RF_model=RandomForestRegressor(n_estimators = 501, random_state=0)\n",
        "RF_model.fit(X_train, y_train)"
      ]
    },
    {
      "cell_type": "code",
      "execution_count": null,
      "id": "557e211f",
      "metadata": {
        "execution": {
          "iopub.execute_input": "2022-03-03T16:55:50.638231Z",
          "iopub.status.busy": "2022-03-03T16:55:50.637362Z",
          "iopub.status.idle": "2022-03-03T16:56:00.984887Z",
          "shell.execute_reply": "2022-03-03T16:56:00.984383Z",
          "shell.execute_reply.started": "2022-03-03T16:51:13.910938Z"
        },
        "papermill": {
          "duration": 10.425372,
          "end_time": "2022-03-03T16:56:00.985029",
          "exception": false,
          "start_time": "2022-03-03T16:55:50.559657",
          "status": "completed"
        },
        "tags": [],
        "id": "557e211f"
      },
      "outputs": [],
      "source": [
        "RF_train_predict = RF_model.predict(X_train)\n",
        "RF_validation_predict = RF_model.predict(X_validation)"
      ]
    },
    {
      "cell_type": "markdown",
      "id": "f52171c9",
      "metadata": {
        "papermill": {
          "duration": 0.075812,
          "end_time": "2022-03-03T16:56:01.135491",
          "exception": false,
          "start_time": "2022-03-03T16:56:01.059679",
          "status": "completed"
        },
        "tags": [],
        "id": "f52171c9"
      },
      "source": [
        "<span style='color:Brown'>**Model Evaluation metrics**</span>"
      ]
    },
    {
      "cell_type": "code",
      "execution_count": null,
      "id": "b9b29909",
      "metadata": {
        "execution": {
          "iopub.execute_input": "2022-03-03T16:56:01.292847Z",
          "iopub.status.busy": "2022-03-03T16:56:01.291717Z",
          "iopub.status.idle": "2022-03-03T16:56:01.295134Z",
          "shell.execute_reply": "2022-03-03T16:56:01.294731Z",
          "shell.execute_reply.started": "2022-03-03T16:51:26.282547Z"
        },
        "papermill": {
          "duration": 0.082775,
          "end_time": "2022-03-03T16:56:01.295241",
          "exception": false,
          "start_time": "2022-03-03T16:56:01.212466",
          "status": "completed"
        },
        "tags": [],
        "id": "b9b29909"
      },
      "outputs": [],
      "source": [
        "RF_R2_train = r2_score(y_train,RF_train_predict)\n",
        "RF_R2_validation = r2_score(y_validation,RF_validation_predict)\n",
        "\n",
        "RF_MAPE_train = mape(y_train,RF_train_predict)\n",
        "RF_MAPE_validation = mape(y_validation,RF_validation_predict)"
      ]
    },
    {
      "cell_type": "code",
      "execution_count": null,
      "id": "1d0a3a19",
      "metadata": {
        "execution": {
          "iopub.execute_input": "2022-03-03T16:56:01.450898Z",
          "iopub.status.busy": "2022-03-03T16:56:01.450242Z",
          "iopub.status.idle": "2022-03-03T16:56:01.454452Z",
          "shell.execute_reply": "2022-03-03T16:56:01.454884Z",
          "shell.execute_reply.started": "2022-03-03T16:51:26.291538Z"
        },
        "papermill": {
          "duration": 0.086611,
          "end_time": "2022-03-03T16:56:01.455016",
          "exception": false,
          "start_time": "2022-03-03T16:56:01.368405",
          "status": "completed"
        },
        "tags": [],
        "id": "1d0a3a19",
        "outputId": "c064e892-0c88-4d82-8683-c94a0e4b9bba"
      },
      "outputs": [
        {
          "data": {
            "text/html": [
              "<div>\n",
              "<style scoped>\n",
              "    .dataframe tbody tr th:only-of-type {\n",
              "        vertical-align: middle;\n",
              "    }\n",
              "\n",
              "    .dataframe tbody tr th {\n",
              "        vertical-align: top;\n",
              "    }\n",
              "\n",
              "    .dataframe thead th {\n",
              "        text-align: right;\n",
              "    }\n",
              "</style>\n",
              "<table border=\"1\" class=\"dataframe\">\n",
              "  <thead>\n",
              "    <tr style=\"text-align: right;\">\n",
              "      <th></th>\n",
              "      <th>R Squared Score</th>\n",
              "      <th>MAPE Score</th>\n",
              "    </tr>\n",
              "  </thead>\n",
              "  <tbody>\n",
              "    <tr>\n",
              "      <th>Random Forest</th>\n",
              "      <td>0.295020</td>\n",
              "      <td>36.808463</td>\n",
              "    </tr>\n",
              "    <tr>\n",
              "      <th>Light Gradient Boosted Machine</th>\n",
              "      <td>0.443025</td>\n",
              "      <td>34.115820</td>\n",
              "    </tr>\n",
              "    <tr>\n",
              "      <th>Linear Regression</th>\n",
              "      <td>0.380519</td>\n",
              "      <td>37.565245</td>\n",
              "    </tr>\n",
              "  </tbody>\n",
              "</table>\n",
              "</div>"
            ],
            "text/plain": [
              "                                R Squared Score  MAPE Score\n",
              "Random Forest                          0.295020   36.808463\n",
              "Light Gradient Boosted Machine         0.443025   34.115820\n",
              "Linear Regression                      0.380519   37.565245"
            ]
          },
          "execution_count": 39,
          "metadata": {},
          "output_type": "execute_result"
        }
      ],
      "source": [
        "resultsRF = pd.DataFrame({'R Squared Score': RF_R2_validation,\n",
        "                          'MAPE Score':RF_MAPE_validation }\n",
        "                           ,index=['Random Forest'])\n",
        "\n",
        "results3 = pd.concat([resultsRF,results2])\n",
        "results3"
      ]
    },
    {
      "cell_type": "markdown",
      "id": "c8c4ca4e",
      "metadata": {
        "papermill": {
          "duration": 0.073512,
          "end_time": "2022-03-03T16:56:01.601744",
          "exception": false,
          "start_time": "2022-03-03T16:56:01.528232",
          "status": "completed"
        },
        "tags": [],
        "id": "c8c4ca4e"
      },
      "source": [
        "### XGBoost Regressor"
      ]
    },
    {
      "cell_type": "code",
      "execution_count": null,
      "id": "cb2b6ad3",
      "metadata": {
        "execution": {
          "iopub.execute_input": "2022-03-03T16:56:01.752737Z",
          "iopub.status.busy": "2022-03-03T16:56:01.752165Z",
          "iopub.status.idle": "2022-03-03T16:56:04.701611Z",
          "shell.execute_reply": "2022-03-03T16:56:04.702155Z",
          "shell.execute_reply.started": "2022-03-03T16:51:26.311540Z"
        },
        "papermill": {
          "duration": 3.027053,
          "end_time": "2022-03-03T16:56:04.702302",
          "exception": false,
          "start_time": "2022-03-03T16:56:01.675249",
          "status": "completed"
        },
        "tags": [],
        "id": "cb2b6ad3",
        "outputId": "422e5995-1664-46b1-d153-660b4dcda4e0"
      },
      "outputs": [
        {
          "data": {
            "text/plain": [
              "XGBRegressor(base_score=0.5, booster='gbtree', colsample_bylevel=1,\n",
              "             colsample_bynode=1, colsample_bytree=1, enable_categorical=False,\n",
              "             gamma=0, gpu_id=-1, importance_type=None,\n",
              "             interaction_constraints='', learning_rate=0.300000012,\n",
              "             max_delta_step=0, max_depth=6, min_child_weight=1, missing=nan,\n",
              "             monotone_constraints='()', n_estimators=100, n_jobs=2,\n",
              "             num_parallel_tree=1, predictor='auto', random_state=0, reg_alpha=0,\n",
              "             reg_lambda=1, scale_pos_weight=1, subsample=1, tree_method='exact',\n",
              "             validate_parameters=1, verbosity=None)"
            ]
          },
          "execution_count": 40,
          "metadata": {},
          "output_type": "execute_result"
        }
      ],
      "source": [
        "XGB_model = XGBRegressor()\n",
        "XGB_model.fit(X_train, y_train)"
      ]
    },
    {
      "cell_type": "code",
      "execution_count": null,
      "id": "d8633e24",
      "metadata": {
        "execution": {
          "iopub.execute_input": "2022-03-03T16:56:04.855138Z",
          "iopub.status.busy": "2022-03-03T16:56:04.854326Z",
          "iopub.status.idle": "2022-03-03T16:56:04.980175Z",
          "shell.execute_reply": "2022-03-03T16:56:04.980980Z",
          "shell.execute_reply.started": "2022-03-03T16:51:28.590822Z"
        },
        "papermill": {
          "duration": 0.204435,
          "end_time": "2022-03-03T16:56:04.981149",
          "exception": false,
          "start_time": "2022-03-03T16:56:04.776714",
          "status": "completed"
        },
        "tags": [],
        "id": "d8633e24"
      },
      "outputs": [],
      "source": [
        "XGB_train_predict = XGB_model.predict(X_train)\n",
        "XGB_validation_predict = XGB_model.predict(X_validation)"
      ]
    },
    {
      "cell_type": "markdown",
      "id": "5508ee59",
      "metadata": {
        "papermill": {
          "duration": 0.074243,
          "end_time": "2022-03-03T16:56:05.132507",
          "exception": false,
          "start_time": "2022-03-03T16:56:05.058264",
          "status": "completed"
        },
        "tags": [],
        "id": "5508ee59"
      },
      "source": [
        "<span style='color:Brown'>**Model Evaluation metrics**</span>"
      ]
    },
    {
      "cell_type": "code",
      "execution_count": null,
      "id": "133f2938",
      "metadata": {
        "execution": {
          "iopub.execute_input": "2022-03-03T16:56:05.289739Z",
          "iopub.status.busy": "2022-03-03T16:56:05.288778Z",
          "iopub.status.idle": "2022-03-03T16:56:05.294086Z",
          "shell.execute_reply": "2022-03-03T16:56:05.293640Z",
          "shell.execute_reply.started": "2022-03-03T16:51:28.679723Z"
        },
        "papermill": {
          "duration": 0.08597,
          "end_time": "2022-03-03T16:56:05.294198",
          "exception": false,
          "start_time": "2022-03-03T16:56:05.208228",
          "status": "completed"
        },
        "tags": [],
        "id": "133f2938"
      },
      "outputs": [],
      "source": [
        "XGB_R2_train = r2_score(y_train,XGB_train_predict)\n",
        "XGB_R2_validation = r2_score(y_validation,XGB_validation_predict)\n",
        "\n",
        "XGB_MAPE_train = mape(y_train,XGB_train_predict)\n",
        "XGB_MAPE_validation = mape(y_validation,XGB_validation_predict)"
      ]
    },
    {
      "cell_type": "code",
      "execution_count": null,
      "id": "ff340703",
      "metadata": {
        "execution": {
          "iopub.execute_input": "2022-03-03T16:56:05.453882Z",
          "iopub.status.busy": "2022-03-03T16:56:05.453204Z",
          "iopub.status.idle": "2022-03-03T16:56:05.455966Z",
          "shell.execute_reply": "2022-03-03T16:56:05.456356Z",
          "shell.execute_reply.started": "2022-03-03T16:51:28.689041Z"
        },
        "papermill": {
          "duration": 0.087488,
          "end_time": "2022-03-03T16:56:05.456485",
          "exception": false,
          "start_time": "2022-03-03T16:56:05.368997",
          "status": "completed"
        },
        "tags": [],
        "id": "ff340703",
        "outputId": "cc8900f4-aefa-4b08-9df4-d33310bc0ca8"
      },
      "outputs": [
        {
          "data": {
            "text/html": [
              "<div>\n",
              "<style scoped>\n",
              "    .dataframe tbody tr th:only-of-type {\n",
              "        vertical-align: middle;\n",
              "    }\n",
              "\n",
              "    .dataframe tbody tr th {\n",
              "        vertical-align: top;\n",
              "    }\n",
              "\n",
              "    .dataframe thead th {\n",
              "        text-align: right;\n",
              "    }\n",
              "</style>\n",
              "<table border=\"1\" class=\"dataframe\">\n",
              "  <thead>\n",
              "    <tr style=\"text-align: right;\">\n",
              "      <th></th>\n",
              "      <th>R Squared Score</th>\n",
              "      <th>MAPE Score</th>\n",
              "    </tr>\n",
              "  </thead>\n",
              "  <tbody>\n",
              "    <tr>\n",
              "      <th>XGBoost Regressor</th>\n",
              "      <td>0.434124</td>\n",
              "      <td>34.245190</td>\n",
              "    </tr>\n",
              "    <tr>\n",
              "      <th>Random Forest</th>\n",
              "      <td>0.295020</td>\n",
              "      <td>36.808463</td>\n",
              "    </tr>\n",
              "    <tr>\n",
              "      <th>Light Gradient Boosted Machine</th>\n",
              "      <td>0.443025</td>\n",
              "      <td>34.115820</td>\n",
              "    </tr>\n",
              "    <tr>\n",
              "      <th>Linear Regression</th>\n",
              "      <td>0.380519</td>\n",
              "      <td>37.565245</td>\n",
              "    </tr>\n",
              "  </tbody>\n",
              "</table>\n",
              "</div>"
            ],
            "text/plain": [
              "                                R Squared Score  MAPE Score\n",
              "XGBoost Regressor                      0.434124   34.245190\n",
              "Random Forest                          0.295020   36.808463\n",
              "Light Gradient Boosted Machine         0.443025   34.115820\n",
              "Linear Regression                      0.380519   37.565245"
            ]
          },
          "execution_count": 43,
          "metadata": {},
          "output_type": "execute_result"
        }
      ],
      "source": [
        "resultsXGB = pd.DataFrame({'R Squared Score': XGB_R2_validation,\n",
        "                          'MAPE Score':XGB_MAPE_validation }\n",
        "                           ,index=['XGBoost Regressor'])\n",
        "\n",
        "results4 = pd.concat([resultsXGB,results3])\n",
        "results4"
      ]
    },
    {
      "cell_type": "markdown",
      "id": "843f05a0",
      "metadata": {
        "papermill": {
          "duration": 0.074553,
          "end_time": "2022-03-03T16:56:05.605298",
          "exception": false,
          "start_time": "2022-03-03T16:56:05.530745",
          "status": "completed"
        },
        "tags": [],
        "id": "843f05a0"
      },
      "source": [
        "# Verdict"
      ]
    },
    {
      "cell_type": "markdown",
      "id": "9a322749",
      "metadata": {
        "papermill": {
          "duration": 0.07527,
          "end_time": "2022-03-03T16:56:05.757572",
          "exception": false,
          "start_time": "2022-03-03T16:56:05.682302",
          "status": "completed"
        },
        "tags": [],
        "id": "9a322749"
      },
      "source": [
        "Light Gradient Boosted Machine Regressor has been considered as it shows highest R2 value among all the tested models."
      ]
    },
    {
      "cell_type": "code",
      "execution_count": null,
      "id": "136880b9",
      "metadata": {
        "execution": {
          "iopub.execute_input": "2022-03-03T16:56:05.911669Z",
          "iopub.status.busy": "2022-03-03T16:56:05.911106Z",
          "iopub.status.idle": "2022-03-03T16:56:06.817648Z",
          "shell.execute_reply": "2022-03-03T16:56:06.817159Z",
          "shell.execute_reply.started": "2022-03-03T16:51:28.707842Z"
        },
        "papermill": {
          "duration": 0.985227,
          "end_time": "2022-03-03T16:56:06.817796",
          "exception": false,
          "start_time": "2022-03-03T16:56:05.832569",
          "status": "completed"
        },
        "tags": [],
        "id": "136880b9"
      },
      "outputs": [],
      "source": [
        "Submission = pd.read_csv('../input/ventilator-pressure-prediction/sample_submission.csv')"
      ]
    },
    {
      "cell_type": "code",
      "execution_count": null,
      "id": "2fe0f581",
      "metadata": {
        "execution": {
          "iopub.execute_input": "2022-03-03T16:56:06.972830Z",
          "iopub.status.busy": "2022-03-03T16:56:06.972296Z",
          "iopub.status.idle": "2022-03-03T16:56:06.998083Z",
          "shell.execute_reply": "2022-03-03T16:56:06.997400Z",
          "shell.execute_reply.started": "2022-03-03T16:51:29.740706Z"
        },
        "papermill": {
          "duration": 0.105197,
          "end_time": "2022-03-03T16:56:06.998228",
          "exception": false,
          "start_time": "2022-03-03T16:56:06.893031",
          "status": "completed"
        },
        "tags": [],
        "id": "2fe0f581"
      },
      "outputs": [],
      "source": [
        "data_test.drop(columns=['id', 'breath_id', 'R', 'C', 'time_step'], axis = 1, inplace = True)"
      ]
    },
    {
      "cell_type": "code",
      "execution_count": null,
      "id": "f054e934",
      "metadata": {
        "execution": {
          "iopub.execute_input": "2022-03-03T16:56:07.218041Z",
          "iopub.status.busy": "2022-03-03T16:56:07.217074Z",
          "iopub.status.idle": "2022-03-03T16:57:18.554995Z",
          "shell.execute_reply": "2022-03-03T16:57:18.550093Z",
          "shell.execute_reply.started": "2022-03-03T16:51:29.778023Z"
        },
        "papermill": {
          "duration": 71.481001,
          "end_time": "2022-03-03T16:57:18.555191",
          "exception": false,
          "start_time": "2022-03-03T16:56:07.074190",
          "status": "completed"
        },
        "tags": [],
        "id": "f054e934"
      },
      "outputs": [],
      "source": [
        "Final_Prediction = LGBMR_model.predict(data_test)"
      ]
    },
    {
      "cell_type": "markdown",
      "id": "30b32135",
      "metadata": {
        "papermill": {
          "duration": 0.157001,
          "end_time": "2022-03-03T16:57:18.836111",
          "exception": false,
          "start_time": "2022-03-03T16:57:18.679110",
          "status": "completed"
        },
        "tags": [],
        "id": "30b32135"
      },
      "source": [
        "**Saving the Prediction**"
      ]
    },
    {
      "cell_type": "code",
      "execution_count": null,
      "id": "6483d58c",
      "metadata": {
        "execution": {
          "iopub.execute_input": "2022-03-03T16:57:19.149516Z",
          "iopub.status.busy": "2022-03-03T16:57:19.146617Z",
          "iopub.status.idle": "2022-03-03T16:57:19.171601Z",
          "shell.execute_reply": "2022-03-03T16:57:19.172373Z",
          "shell.execute_reply.started": "2022-03-03T16:53:52.783284Z"
        },
        "papermill": {
          "duration": 0.18124,
          "end_time": "2022-03-03T16:57:19.172570",
          "exception": false,
          "start_time": "2022-03-03T16:57:18.991330",
          "status": "completed"
        },
        "tags": [],
        "id": "6483d58c"
      },
      "outputs": [],
      "source": [
        "Submission.pressure = Final_Prediction"
      ]
    },
    {
      "cell_type": "code",
      "execution_count": null,
      "id": "2a569f1a",
      "metadata": {
        "execution": {
          "iopub.execute_input": "2022-03-03T16:57:19.396766Z",
          "iopub.status.busy": "2022-03-03T16:57:19.395646Z",
          "iopub.status.idle": "2022-03-03T16:57:19.399323Z",
          "shell.execute_reply": "2022-03-03T16:57:19.399843Z",
          "shell.execute_reply.started": "2022-03-03T16:52:54.410722Z"
        },
        "papermill": {
          "duration": 0.102387,
          "end_time": "2022-03-03T16:57:19.399996",
          "exception": false,
          "start_time": "2022-03-03T16:57:19.297609",
          "status": "completed"
        },
        "tags": [],
        "id": "2a569f1a",
        "outputId": "e234d60f-2274-4d15-88dc-3256cfd42a2c"
      },
      "outputs": [
        {
          "data": {
            "text/html": [
              "<div>\n",
              "<style scoped>\n",
              "    .dataframe tbody tr th:only-of-type {\n",
              "        vertical-align: middle;\n",
              "    }\n",
              "\n",
              "    .dataframe tbody tr th {\n",
              "        vertical-align: top;\n",
              "    }\n",
              "\n",
              "    .dataframe thead th {\n",
              "        text-align: right;\n",
              "    }\n",
              "</style>\n",
              "<table border=\"1\" class=\"dataframe\">\n",
              "  <thead>\n",
              "    <tr style=\"text-align: right;\">\n",
              "      <th></th>\n",
              "      <th>id</th>\n",
              "      <th>pressure</th>\n",
              "    </tr>\n",
              "  </thead>\n",
              "  <tbody>\n",
              "    <tr>\n",
              "      <th>0</th>\n",
              "      <td>1</td>\n",
              "      <td>21.742664</td>\n",
              "    </tr>\n",
              "    <tr>\n",
              "      <th>1</th>\n",
              "      <td>2</td>\n",
              "      <td>16.400895</td>\n",
              "    </tr>\n",
              "    <tr>\n",
              "      <th>2</th>\n",
              "      <td>3</td>\n",
              "      <td>19.790988</td>\n",
              "    </tr>\n",
              "    <tr>\n",
              "      <th>3</th>\n",
              "      <td>4</td>\n",
              "      <td>19.720637</td>\n",
              "    </tr>\n",
              "    <tr>\n",
              "      <th>4</th>\n",
              "      <td>5</td>\n",
              "      <td>21.090335</td>\n",
              "    </tr>\n",
              "  </tbody>\n",
              "</table>\n",
              "</div>"
            ],
            "text/plain": [
              "   id   pressure\n",
              "0   1  21.742664\n",
              "1   2  16.400895\n",
              "2   3  19.790988\n",
              "3   4  19.720637\n",
              "4   5  21.090335"
            ]
          },
          "execution_count": 48,
          "metadata": {},
          "output_type": "execute_result"
        }
      ],
      "source": [
        "Submission.head()"
      ]
    },
    {
      "cell_type": "code",
      "execution_count": null,
      "id": "f1281c41",
      "metadata": {
        "papermill": {
          "duration": 0.075472,
          "end_time": "2022-03-03T16:57:19.557754",
          "exception": false,
          "start_time": "2022-03-03T16:57:19.482282",
          "status": "completed"
        },
        "tags": [],
        "id": "f1281c41"
      },
      "outputs": [],
      "source": []
    }
  ],
  "metadata": {
    "kernelspec": {
      "display_name": "Python 3",
      "language": "python",
      "name": "python3"
    },
    "language_info": {
      "codemirror_mode": {
        "name": "ipython",
        "version": 3
      },
      "file_extension": ".py",
      "mimetype": "text/x-python",
      "name": "python",
      "nbconvert_exporter": "python",
      "pygments_lexer": "ipython3",
      "version": "3.7.12"
    },
    "papermill": {
      "default_parameters": {},
      "duration": 182.414629,
      "end_time": "2022-03-03T16:57:20.843701",
      "environment_variables": {},
      "exception": null,
      "input_path": "__notebook__.ipynb",
      "output_path": "__notebook__.ipynb",
      "parameters": {},
      "start_time": "2022-03-03T16:54:18.429072",
      "version": "2.3.3"
    },
    "colab": {
      "provenance": []
    }
  },
  "nbformat": 4,
  "nbformat_minor": 5
}